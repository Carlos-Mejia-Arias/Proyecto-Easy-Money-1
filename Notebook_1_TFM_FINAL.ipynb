{
 "cells": [
  {
   "cell_type": "markdown",
   "metadata": {},
   "source": [
    "## INSTALACIÓN E IMPORTACIÓN DE LIBRERÍAS"
   ]
  },
  {
   "cell_type": "code",
   "execution_count": 1,
   "metadata": {},
   "outputs": [],
   "source": [
    "# Evitamos que se generen Warnings en los outputs\n",
    "\n",
    "import warnings\n",
    "warnings.simplefilter(action='ignore', category=FutureWarning)\n"
   ]
  },
  {
   "cell_type": "code",
   "execution_count": 2,
   "metadata": {},
   "outputs": [],
   "source": [
    "import numpy as np\n",
    "import pandas as pd\n",
    "import matplotlib.pyplot as plt\n",
    "import seaborn as sns\n",
    "import re\n",
    "import sklearn"
   ]
  },
  {
   "cell_type": "code",
   "execution_count": 3,
   "metadata": {},
   "outputs": [],
   "source": [
    "import os\n",
    "os.environ[\"PATH\"] += os.pathsep + \"/opt/homebrew/bin/\"\n",
    "import graphviz\n",
    "\n"
   ]
  },
  {
   "cell_type": "code",
   "execution_count": 4,
   "metadata": {},
   "outputs": [],
   "source": [
    "plt.style.use('ggplot')"
   ]
  },
  {
   "cell_type": "code",
   "execution_count": 5,
   "metadata": {},
   "outputs": [],
   "source": [
    "from sklearn import preprocessing\n",
    "from sklearn import model_selection\n",
    "from sklearn.preprocessing import OrdinalEncoder\n",
    "from sklearn.metrics import accuracy_score\n",
    "from sklearn.ensemble import RandomForestClassifier\n",
    "from sklearn.tree import export_graphviz\n",
    "from sklearn.tree import DecisionTreeClassifier\n",
    "from sklearn import metrics\n",
    "from sklearn.datasets import make_hastie_10_2\n",
    "from sklearn.ensemble import GradientBoostingClassifier\n",
    "from sklearn.pipeline import Pipeline\n",
    "from sklearn.compose import ColumnTransformer\n",
    "from sklearn.impute import SimpleImputer\n",
    "from sklearn.preprocessing import StandardScaler\n",
    "from sklearn.cluster import KMeans\n",
    "import matplotlib.pyplot as plt"
   ]
  },
  {
   "cell_type": "markdown",
   "metadata": {},
   "source": [
    "## IMPORTACIÓN DE DATOS"
   ]
  },
  {
   "cell_type": "code",
   "execution_count": 6,
   "metadata": {},
   "outputs": [
    {
     "name": "stdout",
     "output_type": "stream",
     "text": [
      "           pk_cid pk_partition country_id  region_code gender  age deceased  \\\n",
      "0         1375586      2018-01         ES         29.0      H   35        N   \n",
      "1         1050611      2018-01         ES         13.0      V   23        N   \n",
      "2         1050612      2018-01         ES         13.0      V   23        N   \n",
      "3         1050613      2018-01         ES         50.0      H   22        N   \n",
      "4         1050614      2018-01         ES         50.0      V   23        N   \n",
      "...           ...          ...        ...          ...    ...  ...      ...   \n",
      "13647304  1166765      2019-05         ES         50.0      V   22        N   \n",
      "13647305  1166764      2019-05         ES         26.0      V   23        N   \n",
      "13647306  1166763      2019-05         ES         50.0      H   47        N   \n",
      "13647307  1166789      2019-05         ES         50.0      H   22        N   \n",
      "13647308  1550586      2019-05         ES         28.0      H   37        N   \n",
      "\n",
      "             salary  \n",
      "0          87218.10  \n",
      "1          35548.74  \n",
      "2         122179.11  \n",
      "3         119775.54  \n",
      "4               NaN  \n",
      "...             ...  \n",
      "13647304   43912.17  \n",
      "13647305   23334.99  \n",
      "13647306        NaN  \n",
      "13647307  199592.82  \n",
      "13647308        NaN  \n",
      "\n",
      "[5962924 rows x 8 columns]\n"
     ]
    }
   ],
   "source": [
    "dfDemographic = pd.read_csv('/Users/noecrespo/Documents/Nuclio - Data Science & IA/TFM/easyMoney/datasets_TFM + diccionario/customer_sociodemographics.csv', index_col = 0)\n",
    "print(dfDemographic)"
   ]
  },
  {
   "cell_type": "code",
   "execution_count": 7,
   "metadata": {},
   "outputs": [
    {
     "name": "stdout",
     "output_type": "stream",
     "text": [
      "        pk_sale      cid  month_sale  product_ID  net_margin\n",
      "0          6666    33620  2018-05-01        2335       952.9\n",
      "1          6667    35063  2018-06-01        2335      1625.2\n",
      "2          6668    37299  2018-02-01        2335      1279.7\n",
      "3          6669    39997  2018-02-01        2335      1511.9\n",
      "4          6670    44012  2018-02-01        2335      1680.3\n",
      "...         ...      ...         ...         ...         ...\n",
      "240768   247434  1553456  2019-05-01        4657        56.7\n",
      "240769   247435  1553541  2019-05-01        4657        66.5\n",
      "240770   247436  1553559  2019-05-01        4657        73.0\n",
      "240771   247437  1553565  2019-05-01        4657        82.3\n",
      "240772   247438  1553571  2019-05-01        4657        84.4\n",
      "\n",
      "[240773 rows x 5 columns]\n"
     ]
    }
   ],
   "source": [
    "dfSales = pd.read_csv('/Users/noecrespo/Documents/Nuclio - Data Science & IA/TFM/easyMoney/datasets_TFM + diccionario/sales.csv', index_col = 0)\n",
    "print(dfSales)"
   ]
  },
  {
   "cell_type": "code",
   "execution_count": 8,
   "metadata": {},
   "outputs": [
    {
     "name": "stdout",
     "output_type": "stream",
     "text": [
      "    pk_product_ID        product_desc family_product\n",
      "0            4657           em_acount        account\n",
      "1            3819          debit_card   payment_card\n",
      "2            1364        pension_plan   pension_plan\n",
      "3            2234             payroll        account\n",
      "4            2235     payroll_account        account\n",
      "5            8871         emc_account        account\n",
      "6            2312         credit_card   payment_card\n",
      "7            2335  short_term_deposit     investment\n",
      "8            2336   long_term_deposit     investment\n",
      "9            2673          securities     investment\n",
      "10           1119               funds     investment\n",
      "11           9001               loans           loan\n",
      "12           4033            mortgage           loan\n"
     ]
    }
   ],
   "source": [
    "dfproduct_description = pd.read_csv('/Users/noecrespo/Documents/Nuclio - Data Science & IA/TFM/easyMoney/datasets_TFM + diccionario/product_description.csv', index_col = 0)\n",
    "print(dfproduct_description)"
   ]
  },
  {
   "cell_type": "code",
   "execution_count": 9,
   "metadata": {},
   "outputs": [
    {
     "name": "stdout",
     "output_type": "stream",
     "text": [
      "           pk_cid pk_partition  short_term_deposit  loans  mortgage  funds  \\\n",
      "0         1375586      2018-01                   0      0         0      0   \n",
      "1         1050611      2018-01                   0      0         0      0   \n",
      "2         1050612      2018-01                   0      0         0      0   \n",
      "3         1050613      2018-01                   1      0         0      0   \n",
      "4         1050614      2018-01                   0      0         0      0   \n",
      "...           ...          ...                 ...    ...       ...    ...   \n",
      "13647304  1166765      2019-05                   0      0         0      0   \n",
      "13647305  1166764      2019-05                   0      0         0      0   \n",
      "13647306  1166763      2019-05                   0      0         0      0   \n",
      "13647307  1166789      2019-05                   0      0         0      0   \n",
      "13647308  1550586      2019-05                   0      0         0      0   \n",
      "\n",
      "          securities  long_term_deposit  em_account_pp  credit_card  payroll  \\\n",
      "0                  0                  0              0            0      0.0   \n",
      "1                  0                  0              0            0      0.0   \n",
      "2                  0                  0              0            0      0.0   \n",
      "3                  0                  0              0            0      0.0   \n",
      "4                  0                  0              0            0      0.0   \n",
      "...              ...                ...            ...          ...      ...   \n",
      "13647304           0                  0              0            0      0.0   \n",
      "13647305           0                  0              0            0      0.0   \n",
      "13647306           0                  0              0            0      0.0   \n",
      "13647307           0                  0              0            0      0.0   \n",
      "13647308           0                  0              0            0      0.0   \n",
      "\n",
      "          pension_plan  payroll_account  emc_account  debit_card  \\\n",
      "0                  0.0                0            0           0   \n",
      "1                  0.0                0            0           0   \n",
      "2                  0.0                0            0           0   \n",
      "3                  0.0                0            0           0   \n",
      "4                  0.0                0            0           0   \n",
      "...                ...              ...          ...         ...   \n",
      "13647304           0.0                0            0           0   \n",
      "13647305           0.0                0            0           0   \n",
      "13647306           0.0                0            0           0   \n",
      "13647307           0.0                0            0           0   \n",
      "13647308           0.0                0            0           0   \n",
      "\n",
      "          em_account_p  em_acount  \n",
      "0                    0          1  \n",
      "1                    0          1  \n",
      "2                    0          1  \n",
      "3                    0          0  \n",
      "4                    0          1  \n",
      "...                ...        ...  \n",
      "13647304             0          1  \n",
      "13647305             0          1  \n",
      "13647306             0          1  \n",
      "13647307             0          1  \n",
      "13647308             0          1  \n",
      "\n",
      "[5962924 rows x 17 columns]\n"
     ]
    }
   ],
   "source": [
    "dfCustomer_product = pd.read_csv('/Users/noecrespo/Documents/Nuclio - Data Science & IA/TFM/easyMoney/datasets_TFM + diccionario/customer_products.csv', index_col = 0)\n",
    "print(dfCustomer_product)"
   ]
  },
  {
   "cell_type": "code",
   "execution_count": 10,
   "metadata": {},
   "outputs": [
    {
     "name": "stdout",
     "output_type": "stream",
     "text": [
      "           pk_cid pk_partition entry_date entry_channel  active_customer  \\\n",
      "0         1375586      2018-01    2018-01           KHL              1.0   \n",
      "1         1050611      2018-01    2015-08           KHE              0.0   \n",
      "2         1050612      2018-01    2015-08           KHE              0.0   \n",
      "3         1050613      2018-01    2015-08           KHD              0.0   \n",
      "4         1050614      2018-01    2015-08           KHE              1.0   \n",
      "...           ...          ...        ...           ...              ...   \n",
      "13647304  1166765      2019-05    2016-08           KHE              0.0   \n",
      "13647305  1166764      2019-05    2016-08           KHE              0.0   \n",
      "13647306  1166763      2019-05    2016-08           KHE              1.0   \n",
      "13647307  1166789      2019-05    2016-08           KHE              0.0   \n",
      "13647308  1550586      2019-05    2019-05           NaN              1.0   \n",
      "\n",
      "                     segment  \n",
      "0          02 - PARTICULARES  \n",
      "1         03 - UNIVERSITARIO  \n",
      "2         03 - UNIVERSITARIO  \n",
      "3         03 - UNIVERSITARIO  \n",
      "4         03 - UNIVERSITARIO  \n",
      "...                      ...  \n",
      "13647304  03 - UNIVERSITARIO  \n",
      "13647305  03 - UNIVERSITARIO  \n",
      "13647306   02 - PARTICULARES  \n",
      "13647307  03 - UNIVERSITARIO  \n",
      "13647308                 NaN  \n",
      "\n",
      "[5962924 rows x 6 columns]\n"
     ]
    }
   ],
   "source": [
    "dfComercial = pd.read_csv('/Users/noecrespo/Documents/Nuclio - Data Science & IA/TFM/easyMoney/datasets_TFM + diccionario/customer_commercial_activity.csv', index_col = 0)\n",
    "print(dfComercial)"
   ]
  },
  {
   "cell_type": "markdown",
   "metadata": {},
   "source": [
    "## dfDemographic"
   ]
  },
  {
   "cell_type": "markdown",
   "metadata": {},
   "source": [
    "### DATA UNDERSTANDING Y VISUALIZACIÓN"
   ]
  },
  {
   "cell_type": "code",
   "execution_count": 11,
   "metadata": {},
   "outputs": [
    {
     "data": {
      "text/html": [
       "<div>\n",
       "<style scoped>\n",
       "    .dataframe tbody tr th:only-of-type {\n",
       "        vertical-align: middle;\n",
       "    }\n",
       "\n",
       "    .dataframe tbody tr th {\n",
       "        vertical-align: top;\n",
       "    }\n",
       "\n",
       "    .dataframe thead th {\n",
       "        text-align: right;\n",
       "    }\n",
       "</style>\n",
       "<table border=\"1\" class=\"dataframe\">\n",
       "  <thead>\n",
       "    <tr style=\"text-align: right;\">\n",
       "      <th></th>\n",
       "      <th>pk_cid</th>\n",
       "      <th>pk_partition</th>\n",
       "      <th>country_id</th>\n",
       "      <th>region_code</th>\n",
       "      <th>gender</th>\n",
       "      <th>age</th>\n",
       "      <th>deceased</th>\n",
       "      <th>salary</th>\n",
       "    </tr>\n",
       "  </thead>\n",
       "  <tbody>\n",
       "    <tr>\n",
       "      <th>0</th>\n",
       "      <td>1375586</td>\n",
       "      <td>2018-01</td>\n",
       "      <td>ES</td>\n",
       "      <td>29.0</td>\n",
       "      <td>H</td>\n",
       "      <td>35</td>\n",
       "      <td>N</td>\n",
       "      <td>87218.10</td>\n",
       "    </tr>\n",
       "    <tr>\n",
       "      <th>1</th>\n",
       "      <td>1050611</td>\n",
       "      <td>2018-01</td>\n",
       "      <td>ES</td>\n",
       "      <td>13.0</td>\n",
       "      <td>V</td>\n",
       "      <td>23</td>\n",
       "      <td>N</td>\n",
       "      <td>35548.74</td>\n",
       "    </tr>\n",
       "    <tr>\n",
       "      <th>2</th>\n",
       "      <td>1050612</td>\n",
       "      <td>2018-01</td>\n",
       "      <td>ES</td>\n",
       "      <td>13.0</td>\n",
       "      <td>V</td>\n",
       "      <td>23</td>\n",
       "      <td>N</td>\n",
       "      <td>122179.11</td>\n",
       "    </tr>\n",
       "    <tr>\n",
       "      <th>3</th>\n",
       "      <td>1050613</td>\n",
       "      <td>2018-01</td>\n",
       "      <td>ES</td>\n",
       "      <td>50.0</td>\n",
       "      <td>H</td>\n",
       "      <td>22</td>\n",
       "      <td>N</td>\n",
       "      <td>119775.54</td>\n",
       "    </tr>\n",
       "    <tr>\n",
       "      <th>4</th>\n",
       "      <td>1050614</td>\n",
       "      <td>2018-01</td>\n",
       "      <td>ES</td>\n",
       "      <td>50.0</td>\n",
       "      <td>V</td>\n",
       "      <td>23</td>\n",
       "      <td>N</td>\n",
       "      <td>NaN</td>\n",
       "    </tr>\n",
       "  </tbody>\n",
       "</table>\n",
       "</div>"
      ],
      "text/plain": [
       "    pk_cid pk_partition country_id  region_code gender  age deceased  \\\n",
       "0  1375586      2018-01         ES         29.0      H   35        N   \n",
       "1  1050611      2018-01         ES         13.0      V   23        N   \n",
       "2  1050612      2018-01         ES         13.0      V   23        N   \n",
       "3  1050613      2018-01         ES         50.0      H   22        N   \n",
       "4  1050614      2018-01         ES         50.0      V   23        N   \n",
       "\n",
       "      salary  \n",
       "0   87218.10  \n",
       "1   35548.74  \n",
       "2  122179.11  \n",
       "3  119775.54  \n",
       "4        NaN  "
      ]
     },
     "execution_count": 11,
     "metadata": {},
     "output_type": "execute_result"
    }
   ],
   "source": [
    "dfDemographic.head()"
   ]
  },
  {
   "cell_type": "code",
   "execution_count": 12,
   "metadata": {},
   "outputs": [
    {
     "name": "stdout",
     "output_type": "stream",
     "text": [
      "<class 'pandas.core.frame.DataFrame'>\n",
      "Index: 5962924 entries, 0 to 13647308\n",
      "Data columns (total 8 columns):\n",
      " #   Column        Dtype  \n",
      "---  ------        -----  \n",
      " 0   pk_cid        int64  \n",
      " 1   pk_partition  object \n",
      " 2   country_id    object \n",
      " 3   region_code   float64\n",
      " 4   gender        object \n",
      " 5   age           int64  \n",
      " 6   deceased      object \n",
      " 7   salary        float64\n",
      "dtypes: float64(2), int64(2), object(4)\n",
      "memory usage: 409.4+ MB\n"
     ]
    }
   ],
   "source": [
    "dfDemographic.info(verbose = True)"
   ]
  },
  {
   "cell_type": "markdown",
   "metadata": {},
   "source": [
    "### CONTEO DE DUPLICADOS"
   ]
  },
  {
   "cell_type": "code",
   "execution_count": 13,
   "metadata": {},
   "outputs": [
    {
     "data": {
      "text/html": [
       "<div>\n",
       "<style scoped>\n",
       "    .dataframe tbody tr th:only-of-type {\n",
       "        vertical-align: middle;\n",
       "    }\n",
       "\n",
       "    .dataframe tbody tr th {\n",
       "        vertical-align: top;\n",
       "    }\n",
       "\n",
       "    .dataframe thead th {\n",
       "        text-align: right;\n",
       "    }\n",
       "</style>\n",
       "<table border=\"1\" class=\"dataframe\">\n",
       "  <thead>\n",
       "    <tr style=\"text-align: right;\">\n",
       "      <th></th>\n",
       "      <th>pk_cid</th>\n",
       "      <th>pk_partition</th>\n",
       "      <th>country_id</th>\n",
       "      <th>region_code</th>\n",
       "      <th>gender</th>\n",
       "      <th>age</th>\n",
       "      <th>deceased</th>\n",
       "      <th>salary</th>\n",
       "    </tr>\n",
       "  </thead>\n",
       "  <tbody>\n",
       "  </tbody>\n",
       "</table>\n",
       "</div>"
      ],
      "text/plain": [
       "Empty DataFrame\n",
       "Columns: [pk_cid, pk_partition, country_id, region_code, gender, age, deceased, salary]\n",
       "Index: []"
      ]
     },
     "execution_count": 13,
     "metadata": {},
     "output_type": "execute_result"
    }
   ],
   "source": [
    "dfDemographic[dfDemographic.duplicated()]\n",
    "\n",
    "# No hay duplicados"
   ]
  },
  {
   "cell_type": "markdown",
   "metadata": {},
   "source": [
    "### CONTEO DE NULOS"
   ]
  },
  {
   "cell_type": "code",
   "execution_count": 14,
   "metadata": {},
   "outputs": [
    {
     "data": {
      "text/plain": [
       "pk_cid               0\n",
       "region_code       2264\n",
       "age                  0\n",
       "salary         1541104\n",
       "dtype: int64"
      ]
     },
     "execution_count": 14,
     "metadata": {},
     "output_type": "execute_result"
    }
   ],
   "source": [
    "dfDemographic.select_dtypes(include = ['number']).isnull().sum()"
   ]
  },
  {
   "cell_type": "code",
   "execution_count": 15,
   "metadata": {},
   "outputs": [
    {
     "data": {
      "text/plain": [
       "pk_partition     0\n",
       "country_id       0\n",
       "gender          25\n",
       "deceased         0\n",
       "dtype: int64"
      ]
     },
     "execution_count": 15,
     "metadata": {},
     "output_type": "execute_result"
    }
   ],
   "source": [
    "dfDemographic.select_dtypes(exclude = ['number']).isnull().sum()"
   ]
  },
  {
   "cell_type": "markdown",
   "metadata": {},
   "source": [
    "### DATA PREPARATION"
   ]
  },
  {
   "cell_type": "code",
   "execution_count": 16,
   "metadata": {},
   "outputs": [],
   "source": [
    "# Generamos una función para obtener las variables numéricas, boolean y categóricas\n",
    "\n",
    "def obtener_lista_variables(dataset):\n",
    "    lista_numericas=[]\n",
    "    lista_boolean=[]\n",
    "    lista_categoricas=[]\n",
    "    for i in dataset:\n",
    "        if    (dataset[i].dtype.kind==\"f\" or dataset[i].dtype.kind==\"i\") and len(dataset[i].unique())!= 2:\n",
    "               lista_numericas.append(i)\n",
    "        elif  (dataset[i].dtype.kind==\"b\" or dataset[i].dtype.kind==\"i\")  and len(dataset[i].unique())== 2:\n",
    "              lista_boolean.append(i)\n",
    "        elif  (dataset[i].dtype.kind==\"O\"):\n",
    "              lista_categoricas.append(i)\n",
    "\n",
    "    return lista_numericas, lista_boolean, lista_categoricas"
   ]
  },
  {
   "cell_type": "code",
   "execution_count": 17,
   "metadata": {},
   "outputs": [],
   "source": [
    "lnum_Demographic, lbool_Demographic, lcat_Demographic= obtener_lista_variables(dfDemographic)"
   ]
  },
  {
   "cell_type": "code",
   "execution_count": 18,
   "metadata": {},
   "outputs": [],
   "source": [
    "# Generamos una variable que contenga las variables numéricas que queremos cambiar a categóricas\n",
    "\n",
    "column_name = ['pk_cid','region_code']"
   ]
  },
  {
   "cell_type": "code",
   "execution_count": 19,
   "metadata": {},
   "outputs": [],
   "source": [
    "# Realizamos el cambio mediante la siguiente función\n",
    "\n",
    "def cambio_cat(column_name):\n",
    "  dfDemographic[column_name] = dfDemographic[column_name].astype(object)\n",
    "\n",
    "  return dfDemographic[column_name]"
   ]
  },
  {
   "cell_type": "code",
   "execution_count": 20,
   "metadata": {},
   "outputs": [
    {
     "data": {
      "text/html": [
       "<div>\n",
       "<style scoped>\n",
       "    .dataframe tbody tr th:only-of-type {\n",
       "        vertical-align: middle;\n",
       "    }\n",
       "\n",
       "    .dataframe tbody tr th {\n",
       "        vertical-align: top;\n",
       "    }\n",
       "\n",
       "    .dataframe thead th {\n",
       "        text-align: right;\n",
       "    }\n",
       "</style>\n",
       "<table border=\"1\" class=\"dataframe\">\n",
       "  <thead>\n",
       "    <tr style=\"text-align: right;\">\n",
       "      <th></th>\n",
       "      <th>pk_cid</th>\n",
       "      <th>region_code</th>\n",
       "    </tr>\n",
       "  </thead>\n",
       "  <tbody>\n",
       "    <tr>\n",
       "      <th>0</th>\n",
       "      <td>1375586</td>\n",
       "      <td>29.0</td>\n",
       "    </tr>\n",
       "    <tr>\n",
       "      <th>1</th>\n",
       "      <td>1050611</td>\n",
       "      <td>13.0</td>\n",
       "    </tr>\n",
       "    <tr>\n",
       "      <th>2</th>\n",
       "      <td>1050612</td>\n",
       "      <td>13.0</td>\n",
       "    </tr>\n",
       "    <tr>\n",
       "      <th>3</th>\n",
       "      <td>1050613</td>\n",
       "      <td>50.0</td>\n",
       "    </tr>\n",
       "    <tr>\n",
       "      <th>4</th>\n",
       "      <td>1050614</td>\n",
       "      <td>50.0</td>\n",
       "    </tr>\n",
       "    <tr>\n",
       "      <th>...</th>\n",
       "      <td>...</td>\n",
       "      <td>...</td>\n",
       "    </tr>\n",
       "    <tr>\n",
       "      <th>13647304</th>\n",
       "      <td>1166765</td>\n",
       "      <td>50.0</td>\n",
       "    </tr>\n",
       "    <tr>\n",
       "      <th>13647305</th>\n",
       "      <td>1166764</td>\n",
       "      <td>26.0</td>\n",
       "    </tr>\n",
       "    <tr>\n",
       "      <th>13647306</th>\n",
       "      <td>1166763</td>\n",
       "      <td>50.0</td>\n",
       "    </tr>\n",
       "    <tr>\n",
       "      <th>13647307</th>\n",
       "      <td>1166789</td>\n",
       "      <td>50.0</td>\n",
       "    </tr>\n",
       "    <tr>\n",
       "      <th>13647308</th>\n",
       "      <td>1550586</td>\n",
       "      <td>28.0</td>\n",
       "    </tr>\n",
       "  </tbody>\n",
       "</table>\n",
       "<p>5962924 rows × 2 columns</p>\n",
       "</div>"
      ],
      "text/plain": [
       "           pk_cid region_code\n",
       "0         1375586        29.0\n",
       "1         1050611        13.0\n",
       "2         1050612        13.0\n",
       "3         1050613        50.0\n",
       "4         1050614        50.0\n",
       "...           ...         ...\n",
       "13647304  1166765        50.0\n",
       "13647305  1166764        26.0\n",
       "13647306  1166763        50.0\n",
       "13647307  1166789        50.0\n",
       "13647308  1550586        28.0\n",
       "\n",
       "[5962924 rows x 2 columns]"
      ]
     },
     "execution_count": 20,
     "metadata": {},
     "output_type": "execute_result"
    }
   ],
   "source": [
    "cambio_cat(column_name)"
   ]
  },
  {
   "cell_type": "code",
   "execution_count": 21,
   "metadata": {},
   "outputs": [],
   "source": [
    "# Cambiamos formato fecha\n",
    "dfDemographic[\"pk_partition\"] = pd.to_datetime(dfDemographic[\"pk_partition\"], format = \"%Y-%m\")"
   ]
  },
  {
   "cell_type": "code",
   "execution_count": 22,
   "metadata": {},
   "outputs": [
    {
     "name": "stdout",
     "output_type": "stream",
     "text": [
      "<class 'pandas.core.frame.DataFrame'>\n",
      "Index: 5962924 entries, 0 to 13647308\n",
      "Data columns (total 8 columns):\n",
      " #   Column        Dtype         \n",
      "---  ------        -----         \n",
      " 0   pk_cid        object        \n",
      " 1   pk_partition  datetime64[ns]\n",
      " 2   country_id    object        \n",
      " 3   region_code   object        \n",
      " 4   gender        object        \n",
      " 5   age           int64         \n",
      " 6   deceased      object        \n",
      " 7   salary        float64       \n",
      "dtypes: datetime64[ns](1), float64(1), int64(1), object(5)\n",
      "memory usage: 409.4+ MB\n"
     ]
    }
   ],
   "source": [
    "# Comprobamos conversión\n",
    "\n",
    "dfDemographic.info()"
   ]
  },
  {
   "cell_type": "markdown",
   "metadata": {},
   "source": [
    "#### Limpieza de atributos: Nulos"
   ]
  },
  {
   "cell_type": "code",
   "execution_count": 23,
   "metadata": {},
   "outputs": [],
   "source": [
    "# Imputamos nulos como 'No Dato'\n",
    "\n",
    "dfDemographic['gender'].fillna('No Dato', inplace=True)\n",
    "dfDemographic['region_code'].fillna('No Dato', inplace=True)"
   ]
  },
  {
   "cell_type": "code",
   "execution_count": 24,
   "metadata": {},
   "outputs": [],
   "source": [
    "# Imputamos nulos como -1\n",
    "\n",
    "dfDemographic['salary'].fillna(-1, inplace=True)"
   ]
  },
  {
   "cell_type": "code",
   "execution_count": 25,
   "metadata": {},
   "outputs": [
    {
     "data": {
      "text/plain": [
       "pk_cid          0\n",
       "pk_partition    0\n",
       "country_id      0\n",
       "region_code     0\n",
       "gender          0\n",
       "age             0\n",
       "deceased        0\n",
       "salary          0\n",
       "dtype: int64"
      ]
     },
     "execution_count": 25,
     "metadata": {},
     "output_type": "execute_result"
    }
   ],
   "source": [
    "dfDemographic.isnull().sum()"
   ]
  },
  {
   "cell_type": "markdown",
   "metadata": {},
   "source": [
    "## dfSales"
   ]
  },
  {
   "cell_type": "markdown",
   "metadata": {},
   "source": [
    "### DATA UNDERSTANDING Y VISUALIZACIÓN"
   ]
  },
  {
   "cell_type": "code",
   "execution_count": 26,
   "metadata": {},
   "outputs": [
    {
     "data": {
      "text/html": [
       "<div>\n",
       "<style scoped>\n",
       "    .dataframe tbody tr th:only-of-type {\n",
       "        vertical-align: middle;\n",
       "    }\n",
       "\n",
       "    .dataframe tbody tr th {\n",
       "        vertical-align: top;\n",
       "    }\n",
       "\n",
       "    .dataframe thead th {\n",
       "        text-align: right;\n",
       "    }\n",
       "</style>\n",
       "<table border=\"1\" class=\"dataframe\">\n",
       "  <thead>\n",
       "    <tr style=\"text-align: right;\">\n",
       "      <th></th>\n",
       "      <th>pk_sale</th>\n",
       "      <th>cid</th>\n",
       "      <th>month_sale</th>\n",
       "      <th>product_ID</th>\n",
       "      <th>net_margin</th>\n",
       "    </tr>\n",
       "  </thead>\n",
       "  <tbody>\n",
       "    <tr>\n",
       "      <th>0</th>\n",
       "      <td>6666</td>\n",
       "      <td>33620</td>\n",
       "      <td>2018-05-01</td>\n",
       "      <td>2335</td>\n",
       "      <td>952.9</td>\n",
       "    </tr>\n",
       "    <tr>\n",
       "      <th>1</th>\n",
       "      <td>6667</td>\n",
       "      <td>35063</td>\n",
       "      <td>2018-06-01</td>\n",
       "      <td>2335</td>\n",
       "      <td>1625.2</td>\n",
       "    </tr>\n",
       "    <tr>\n",
       "      <th>2</th>\n",
       "      <td>6668</td>\n",
       "      <td>37299</td>\n",
       "      <td>2018-02-01</td>\n",
       "      <td>2335</td>\n",
       "      <td>1279.7</td>\n",
       "    </tr>\n",
       "    <tr>\n",
       "      <th>3</th>\n",
       "      <td>6669</td>\n",
       "      <td>39997</td>\n",
       "      <td>2018-02-01</td>\n",
       "      <td>2335</td>\n",
       "      <td>1511.9</td>\n",
       "    </tr>\n",
       "    <tr>\n",
       "      <th>4</th>\n",
       "      <td>6670</td>\n",
       "      <td>44012</td>\n",
       "      <td>2018-02-01</td>\n",
       "      <td>2335</td>\n",
       "      <td>1680.3</td>\n",
       "    </tr>\n",
       "  </tbody>\n",
       "</table>\n",
       "</div>"
      ],
      "text/plain": [
       "   pk_sale    cid  month_sale  product_ID  net_margin\n",
       "0     6666  33620  2018-05-01        2335       952.9\n",
       "1     6667  35063  2018-06-01        2335      1625.2\n",
       "2     6668  37299  2018-02-01        2335      1279.7\n",
       "3     6669  39997  2018-02-01        2335      1511.9\n",
       "4     6670  44012  2018-02-01        2335      1680.3"
      ]
     },
     "execution_count": 26,
     "metadata": {},
     "output_type": "execute_result"
    }
   ],
   "source": [
    "dfSales.head()"
   ]
  },
  {
   "cell_type": "code",
   "execution_count": 27,
   "metadata": {},
   "outputs": [
    {
     "name": "stdout",
     "output_type": "stream",
     "text": [
      "<class 'pandas.core.frame.DataFrame'>\n",
      "Index: 240773 entries, 0 to 240772\n",
      "Data columns (total 5 columns):\n",
      " #   Column      Non-Null Count   Dtype  \n",
      "---  ------      --------------   -----  \n",
      " 0   pk_sale     240773 non-null  int64  \n",
      " 1   cid         240773 non-null  int64  \n",
      " 2   month_sale  240773 non-null  object \n",
      " 3   product_ID  240773 non-null  int64  \n",
      " 4   net_margin  240773 non-null  float64\n",
      "dtypes: float64(1), int64(3), object(1)\n",
      "memory usage: 11.0+ MB\n"
     ]
    }
   ],
   "source": [
    "dfSales.info(verbose = True)"
   ]
  },
  {
   "cell_type": "markdown",
   "metadata": {},
   "source": [
    "### CONTEO DE DUPLICADOS"
   ]
  },
  {
   "cell_type": "code",
   "execution_count": 28,
   "metadata": {},
   "outputs": [
    {
     "data": {
      "text/html": [
       "<div>\n",
       "<style scoped>\n",
       "    .dataframe tbody tr th:only-of-type {\n",
       "        vertical-align: middle;\n",
       "    }\n",
       "\n",
       "    .dataframe tbody tr th {\n",
       "        vertical-align: top;\n",
       "    }\n",
       "\n",
       "    .dataframe thead th {\n",
       "        text-align: right;\n",
       "    }\n",
       "</style>\n",
       "<table border=\"1\" class=\"dataframe\">\n",
       "  <thead>\n",
       "    <tr style=\"text-align: right;\">\n",
       "      <th></th>\n",
       "      <th>pk_sale</th>\n",
       "      <th>cid</th>\n",
       "      <th>month_sale</th>\n",
       "      <th>product_ID</th>\n",
       "      <th>net_margin</th>\n",
       "    </tr>\n",
       "  </thead>\n",
       "  <tbody>\n",
       "  </tbody>\n",
       "</table>\n",
       "</div>"
      ],
      "text/plain": [
       "Empty DataFrame\n",
       "Columns: [pk_sale, cid, month_sale, product_ID, net_margin]\n",
       "Index: []"
      ]
     },
     "execution_count": 28,
     "metadata": {},
     "output_type": "execute_result"
    }
   ],
   "source": [
    "dfSales[dfSales.duplicated()]\n",
    "\n",
    "# No hay duplicados"
   ]
  },
  {
   "cell_type": "markdown",
   "metadata": {},
   "source": [
    "### CONTEO DE NULOS"
   ]
  },
  {
   "cell_type": "code",
   "execution_count": 29,
   "metadata": {},
   "outputs": [
    {
     "data": {
      "text/plain": [
       "pk_sale       0\n",
       "cid           0\n",
       "product_ID    0\n",
       "net_margin    0\n",
       "dtype: int64"
      ]
     },
     "execution_count": 29,
     "metadata": {},
     "output_type": "execute_result"
    }
   ],
   "source": [
    "dfSales.select_dtypes(include = ['number']).isnull().sum()"
   ]
  },
  {
   "cell_type": "code",
   "execution_count": 30,
   "metadata": {},
   "outputs": [
    {
     "data": {
      "text/plain": [
       "month_sale    0\n",
       "dtype: int64"
      ]
     },
     "execution_count": 30,
     "metadata": {},
     "output_type": "execute_result"
    }
   ],
   "source": [
    "dfSales.select_dtypes(exclude = ['number']).isnull().sum()"
   ]
  },
  {
   "cell_type": "markdown",
   "metadata": {},
   "source": [
    "### DATA PREPARATION"
   ]
  },
  {
   "cell_type": "code",
   "execution_count": 31,
   "metadata": {},
   "outputs": [],
   "source": [
    "lnum_Sales, lbool_Sales, lcat_Sales= obtener_lista_variables(dfSales)"
   ]
  },
  {
   "cell_type": "code",
   "execution_count": 32,
   "metadata": {},
   "outputs": [],
   "source": [
    "# Cambiamos numéricas a categóricas\n",
    "\n",
    "column_name = ['pk_sale','cid','product_ID']"
   ]
  },
  {
   "cell_type": "code",
   "execution_count": 33,
   "metadata": {},
   "outputs": [],
   "source": [
    "def cambio_cat(column_name):\n",
    "  dfSales[column_name] = dfSales[column_name].astype(object)\n",
    "\n",
    "  return dfSales[column_name]"
   ]
  },
  {
   "cell_type": "code",
   "execution_count": 34,
   "metadata": {},
   "outputs": [
    {
     "data": {
      "text/html": [
       "<div>\n",
       "<style scoped>\n",
       "    .dataframe tbody tr th:only-of-type {\n",
       "        vertical-align: middle;\n",
       "    }\n",
       "\n",
       "    .dataframe tbody tr th {\n",
       "        vertical-align: top;\n",
       "    }\n",
       "\n",
       "    .dataframe thead th {\n",
       "        text-align: right;\n",
       "    }\n",
       "</style>\n",
       "<table border=\"1\" class=\"dataframe\">\n",
       "  <thead>\n",
       "    <tr style=\"text-align: right;\">\n",
       "      <th></th>\n",
       "      <th>pk_sale</th>\n",
       "      <th>cid</th>\n",
       "      <th>product_ID</th>\n",
       "    </tr>\n",
       "  </thead>\n",
       "  <tbody>\n",
       "    <tr>\n",
       "      <th>0</th>\n",
       "      <td>6666</td>\n",
       "      <td>33620</td>\n",
       "      <td>2335</td>\n",
       "    </tr>\n",
       "    <tr>\n",
       "      <th>1</th>\n",
       "      <td>6667</td>\n",
       "      <td>35063</td>\n",
       "      <td>2335</td>\n",
       "    </tr>\n",
       "    <tr>\n",
       "      <th>2</th>\n",
       "      <td>6668</td>\n",
       "      <td>37299</td>\n",
       "      <td>2335</td>\n",
       "    </tr>\n",
       "    <tr>\n",
       "      <th>3</th>\n",
       "      <td>6669</td>\n",
       "      <td>39997</td>\n",
       "      <td>2335</td>\n",
       "    </tr>\n",
       "    <tr>\n",
       "      <th>4</th>\n",
       "      <td>6670</td>\n",
       "      <td>44012</td>\n",
       "      <td>2335</td>\n",
       "    </tr>\n",
       "    <tr>\n",
       "      <th>...</th>\n",
       "      <td>...</td>\n",
       "      <td>...</td>\n",
       "      <td>...</td>\n",
       "    </tr>\n",
       "    <tr>\n",
       "      <th>240768</th>\n",
       "      <td>247434</td>\n",
       "      <td>1553456</td>\n",
       "      <td>4657</td>\n",
       "    </tr>\n",
       "    <tr>\n",
       "      <th>240769</th>\n",
       "      <td>247435</td>\n",
       "      <td>1553541</td>\n",
       "      <td>4657</td>\n",
       "    </tr>\n",
       "    <tr>\n",
       "      <th>240770</th>\n",
       "      <td>247436</td>\n",
       "      <td>1553559</td>\n",
       "      <td>4657</td>\n",
       "    </tr>\n",
       "    <tr>\n",
       "      <th>240771</th>\n",
       "      <td>247437</td>\n",
       "      <td>1553565</td>\n",
       "      <td>4657</td>\n",
       "    </tr>\n",
       "    <tr>\n",
       "      <th>240772</th>\n",
       "      <td>247438</td>\n",
       "      <td>1553571</td>\n",
       "      <td>4657</td>\n",
       "    </tr>\n",
       "  </tbody>\n",
       "</table>\n",
       "<p>240773 rows × 3 columns</p>\n",
       "</div>"
      ],
      "text/plain": [
       "       pk_sale      cid product_ID\n",
       "0         6666    33620       2335\n",
       "1         6667    35063       2335\n",
       "2         6668    37299       2335\n",
       "3         6669    39997       2335\n",
       "4         6670    44012       2335\n",
       "...        ...      ...        ...\n",
       "240768  247434  1553456       4657\n",
       "240769  247435  1553541       4657\n",
       "240770  247436  1553559       4657\n",
       "240771  247437  1553565       4657\n",
       "240772  247438  1553571       4657\n",
       "\n",
       "[240773 rows x 3 columns]"
      ]
     },
     "execution_count": 34,
     "metadata": {},
     "output_type": "execute_result"
    }
   ],
   "source": [
    "cambio_cat(column_name)"
   ]
  },
  {
   "cell_type": "code",
   "execution_count": 35,
   "metadata": {},
   "outputs": [],
   "source": [
    "# Cambiamos a fecha\n",
    "dfSales[\"month_sale\"] = pd.to_datetime(dfSales[\"month_sale\"], format = \"%Y-%m-%d\")"
   ]
  },
  {
   "cell_type": "code",
   "execution_count": 36,
   "metadata": {},
   "outputs": [
    {
     "data": {
      "text/plain": [
       "month_sale\n",
       "2018-10-01    27693\n",
       "2018-09-01    24488\n",
       "2018-08-01    21054\n",
       "2018-07-01    20602\n",
       "2018-11-01    19155\n",
       "2018-02-01    15182\n",
       "2018-12-01    15015\n",
       "2019-01-01    11872\n",
       "2018-03-01    11668\n",
       "2018-06-01    11558\n",
       "2019-03-01    11506\n",
       "2019-02-01    11360\n",
       "2019-05-01    10211\n",
       "2018-04-01     9962\n",
       "2019-04-01     9889\n",
       "2018-05-01     9558\n",
       "Name: count, dtype: int64"
      ]
     },
     "execution_count": 36,
     "metadata": {},
     "output_type": "execute_result"
    }
   ],
   "source": [
    "dfSales['month_sale'].value_counts()"
   ]
  },
  {
   "cell_type": "code",
   "execution_count": 37,
   "metadata": {},
   "outputs": [
    {
     "name": "stdout",
     "output_type": "stream",
     "text": [
      "<class 'pandas.core.frame.DataFrame'>\n",
      "Index: 240773 entries, 0 to 240772\n",
      "Data columns (total 5 columns):\n",
      " #   Column      Non-Null Count   Dtype         \n",
      "---  ------      --------------   -----         \n",
      " 0   pk_sale     240773 non-null  object        \n",
      " 1   cid         240773 non-null  object        \n",
      " 2   month_sale  240773 non-null  datetime64[ns]\n",
      " 3   product_ID  240773 non-null  object        \n",
      " 4   net_margin  240773 non-null  float64       \n",
      "dtypes: datetime64[ns](1), float64(1), object(3)\n",
      "memory usage: 11.0+ MB\n"
     ]
    }
   ],
   "source": [
    "# Comprobamos conversión\n",
    "\n",
    "dfSales.info()"
   ]
  },
  {
   "cell_type": "markdown",
   "metadata": {},
   "source": [
    "## dfproduct_description"
   ]
  },
  {
   "cell_type": "markdown",
   "metadata": {},
   "source": [
    "### DATA UNDERSTANDING Y VISUALIZACIÓN"
   ]
  },
  {
   "cell_type": "code",
   "execution_count": 38,
   "metadata": {},
   "outputs": [
    {
     "data": {
      "text/html": [
       "<div>\n",
       "<style scoped>\n",
       "    .dataframe tbody tr th:only-of-type {\n",
       "        vertical-align: middle;\n",
       "    }\n",
       "\n",
       "    .dataframe tbody tr th {\n",
       "        vertical-align: top;\n",
       "    }\n",
       "\n",
       "    .dataframe thead th {\n",
       "        text-align: right;\n",
       "    }\n",
       "</style>\n",
       "<table border=\"1\" class=\"dataframe\">\n",
       "  <thead>\n",
       "    <tr style=\"text-align: right;\">\n",
       "      <th></th>\n",
       "      <th>pk_product_ID</th>\n",
       "      <th>product_desc</th>\n",
       "      <th>family_product</th>\n",
       "    </tr>\n",
       "  </thead>\n",
       "  <tbody>\n",
       "    <tr>\n",
       "      <th>0</th>\n",
       "      <td>4657</td>\n",
       "      <td>em_acount</td>\n",
       "      <td>account</td>\n",
       "    </tr>\n",
       "    <tr>\n",
       "      <th>1</th>\n",
       "      <td>3819</td>\n",
       "      <td>debit_card</td>\n",
       "      <td>payment_card</td>\n",
       "    </tr>\n",
       "    <tr>\n",
       "      <th>2</th>\n",
       "      <td>1364</td>\n",
       "      <td>pension_plan</td>\n",
       "      <td>pension_plan</td>\n",
       "    </tr>\n",
       "    <tr>\n",
       "      <th>3</th>\n",
       "      <td>2234</td>\n",
       "      <td>payroll</td>\n",
       "      <td>account</td>\n",
       "    </tr>\n",
       "    <tr>\n",
       "      <th>4</th>\n",
       "      <td>2235</td>\n",
       "      <td>payroll_account</td>\n",
       "      <td>account</td>\n",
       "    </tr>\n",
       "  </tbody>\n",
       "</table>\n",
       "</div>"
      ],
      "text/plain": [
       "   pk_product_ID     product_desc family_product\n",
       "0           4657        em_acount        account\n",
       "1           3819       debit_card   payment_card\n",
       "2           1364     pension_plan   pension_plan\n",
       "3           2234          payroll        account\n",
       "4           2235  payroll_account        account"
      ]
     },
     "execution_count": 38,
     "metadata": {},
     "output_type": "execute_result"
    }
   ],
   "source": [
    "dfproduct_description.head()"
   ]
  },
  {
   "cell_type": "code",
   "execution_count": 39,
   "metadata": {},
   "outputs": [
    {
     "name": "stdout",
     "output_type": "stream",
     "text": [
      "<class 'pandas.core.frame.DataFrame'>\n",
      "Index: 13 entries, 0 to 12\n",
      "Data columns (total 3 columns):\n",
      " #   Column          Non-Null Count  Dtype \n",
      "---  ------          --------------  ----- \n",
      " 0   pk_product_ID   13 non-null     int64 \n",
      " 1   product_desc    13 non-null     object\n",
      " 2   family_product  13 non-null     object\n",
      "dtypes: int64(1), object(2)\n",
      "memory usage: 416.0+ bytes\n"
     ]
    }
   ],
   "source": [
    "dfproduct_description.info(verbose = True)"
   ]
  },
  {
   "cell_type": "markdown",
   "metadata": {},
   "source": [
    "### CONTEO DE DUPLICADOS"
   ]
  },
  {
   "cell_type": "code",
   "execution_count": 40,
   "metadata": {},
   "outputs": [
    {
     "data": {
      "text/html": [
       "<div>\n",
       "<style scoped>\n",
       "    .dataframe tbody tr th:only-of-type {\n",
       "        vertical-align: middle;\n",
       "    }\n",
       "\n",
       "    .dataframe tbody tr th {\n",
       "        vertical-align: top;\n",
       "    }\n",
       "\n",
       "    .dataframe thead th {\n",
       "        text-align: right;\n",
       "    }\n",
       "</style>\n",
       "<table border=\"1\" class=\"dataframe\">\n",
       "  <thead>\n",
       "    <tr style=\"text-align: right;\">\n",
       "      <th></th>\n",
       "      <th>pk_product_ID</th>\n",
       "      <th>product_desc</th>\n",
       "      <th>family_product</th>\n",
       "    </tr>\n",
       "  </thead>\n",
       "  <tbody>\n",
       "  </tbody>\n",
       "</table>\n",
       "</div>"
      ],
      "text/plain": [
       "Empty DataFrame\n",
       "Columns: [pk_product_ID, product_desc, family_product]\n",
       "Index: []"
      ]
     },
     "execution_count": 40,
     "metadata": {},
     "output_type": "execute_result"
    }
   ],
   "source": [
    "dfproduct_description[dfproduct_description.duplicated()]\n",
    "\n",
    "# No hay duplicados"
   ]
  },
  {
   "cell_type": "markdown",
   "metadata": {},
   "source": [
    "### CONTEO DE NULOS"
   ]
  },
  {
   "cell_type": "code",
   "execution_count": 41,
   "metadata": {},
   "outputs": [
    {
     "data": {
      "text/plain": [
       "pk_product_ID    0\n",
       "dtype: int64"
      ]
     },
     "execution_count": 41,
     "metadata": {},
     "output_type": "execute_result"
    }
   ],
   "source": [
    "dfproduct_description.select_dtypes(include = ['number']).isnull().sum()"
   ]
  },
  {
   "cell_type": "code",
   "execution_count": 42,
   "metadata": {},
   "outputs": [
    {
     "data": {
      "text/plain": [
       "product_desc      0\n",
       "family_product    0\n",
       "dtype: int64"
      ]
     },
     "execution_count": 42,
     "metadata": {},
     "output_type": "execute_result"
    }
   ],
   "source": [
    "dfproduct_description.select_dtypes(exclude = ['number']).isnull().sum()"
   ]
  },
  {
   "cell_type": "markdown",
   "metadata": {},
   "source": [
    "### DATA PREPARATION"
   ]
  },
  {
   "cell_type": "code",
   "execution_count": 43,
   "metadata": {},
   "outputs": [],
   "source": [
    "lnum_product_description, lbool_product_description, lcat_product_description= obtener_lista_variables(dfproduct_description)"
   ]
  },
  {
   "cell_type": "code",
   "execution_count": 44,
   "metadata": {},
   "outputs": [],
   "source": [
    "# Cambiamos numéricas a categóricas\n",
    "\n",
    "column_name = ['pk_product_ID']"
   ]
  },
  {
   "cell_type": "code",
   "execution_count": 45,
   "metadata": {},
   "outputs": [],
   "source": [
    "def cambio_cat(column_name):\n",
    "  dfproduct_description[column_name] = dfproduct_description[column_name].astype(object)\n",
    "\n",
    "  return dfproduct_description[column_name]"
   ]
  },
  {
   "cell_type": "code",
   "execution_count": 46,
   "metadata": {},
   "outputs": [
    {
     "data": {
      "text/html": [
       "<div>\n",
       "<style scoped>\n",
       "    .dataframe tbody tr th:only-of-type {\n",
       "        vertical-align: middle;\n",
       "    }\n",
       "\n",
       "    .dataframe tbody tr th {\n",
       "        vertical-align: top;\n",
       "    }\n",
       "\n",
       "    .dataframe thead th {\n",
       "        text-align: right;\n",
       "    }\n",
       "</style>\n",
       "<table border=\"1\" class=\"dataframe\">\n",
       "  <thead>\n",
       "    <tr style=\"text-align: right;\">\n",
       "      <th></th>\n",
       "      <th>pk_product_ID</th>\n",
       "    </tr>\n",
       "  </thead>\n",
       "  <tbody>\n",
       "    <tr>\n",
       "      <th>0</th>\n",
       "      <td>4657</td>\n",
       "    </tr>\n",
       "    <tr>\n",
       "      <th>1</th>\n",
       "      <td>3819</td>\n",
       "    </tr>\n",
       "    <tr>\n",
       "      <th>2</th>\n",
       "      <td>1364</td>\n",
       "    </tr>\n",
       "    <tr>\n",
       "      <th>3</th>\n",
       "      <td>2234</td>\n",
       "    </tr>\n",
       "    <tr>\n",
       "      <th>4</th>\n",
       "      <td>2235</td>\n",
       "    </tr>\n",
       "    <tr>\n",
       "      <th>5</th>\n",
       "      <td>8871</td>\n",
       "    </tr>\n",
       "    <tr>\n",
       "      <th>6</th>\n",
       "      <td>2312</td>\n",
       "    </tr>\n",
       "    <tr>\n",
       "      <th>7</th>\n",
       "      <td>2335</td>\n",
       "    </tr>\n",
       "    <tr>\n",
       "      <th>8</th>\n",
       "      <td>2336</td>\n",
       "    </tr>\n",
       "    <tr>\n",
       "      <th>9</th>\n",
       "      <td>2673</td>\n",
       "    </tr>\n",
       "    <tr>\n",
       "      <th>10</th>\n",
       "      <td>1119</td>\n",
       "    </tr>\n",
       "    <tr>\n",
       "      <th>11</th>\n",
       "      <td>9001</td>\n",
       "    </tr>\n",
       "    <tr>\n",
       "      <th>12</th>\n",
       "      <td>4033</td>\n",
       "    </tr>\n",
       "  </tbody>\n",
       "</table>\n",
       "</div>"
      ],
      "text/plain": [
       "   pk_product_ID\n",
       "0           4657\n",
       "1           3819\n",
       "2           1364\n",
       "3           2234\n",
       "4           2235\n",
       "5           8871\n",
       "6           2312\n",
       "7           2335\n",
       "8           2336\n",
       "9           2673\n",
       "10          1119\n",
       "11          9001\n",
       "12          4033"
      ]
     },
     "execution_count": 46,
     "metadata": {},
     "output_type": "execute_result"
    }
   ],
   "source": [
    "cambio_cat(column_name)"
   ]
  },
  {
   "cell_type": "code",
   "execution_count": 47,
   "metadata": {},
   "outputs": [
    {
     "name": "stdout",
     "output_type": "stream",
     "text": [
      "<class 'pandas.core.frame.DataFrame'>\n",
      "Index: 13 entries, 0 to 12\n",
      "Data columns (total 3 columns):\n",
      " #   Column          Non-Null Count  Dtype \n",
      "---  ------          --------------  ----- \n",
      " 0   pk_product_ID   13 non-null     object\n",
      " 1   product_desc    13 non-null     object\n",
      " 2   family_product  13 non-null     object\n",
      "dtypes: object(3)\n",
      "memory usage: 416.0+ bytes\n"
     ]
    }
   ],
   "source": [
    "# Comprobamos conversión\n",
    "\n",
    "dfproduct_description.info()"
   ]
  },
  {
   "cell_type": "markdown",
   "metadata": {},
   "source": [
    "## dfCustomer_product"
   ]
  },
  {
   "cell_type": "markdown",
   "metadata": {},
   "source": [
    "### DATA UNDERSTANDING Y VISUALIZACIÓN"
   ]
  },
  {
   "cell_type": "code",
   "execution_count": 48,
   "metadata": {},
   "outputs": [
    {
     "data": {
      "text/html": [
       "<div>\n",
       "<style scoped>\n",
       "    .dataframe tbody tr th:only-of-type {\n",
       "        vertical-align: middle;\n",
       "    }\n",
       "\n",
       "    .dataframe tbody tr th {\n",
       "        vertical-align: top;\n",
       "    }\n",
       "\n",
       "    .dataframe thead th {\n",
       "        text-align: right;\n",
       "    }\n",
       "</style>\n",
       "<table border=\"1\" class=\"dataframe\">\n",
       "  <thead>\n",
       "    <tr style=\"text-align: right;\">\n",
       "      <th></th>\n",
       "      <th>pk_cid</th>\n",
       "      <th>pk_partition</th>\n",
       "      <th>short_term_deposit</th>\n",
       "      <th>loans</th>\n",
       "      <th>mortgage</th>\n",
       "      <th>funds</th>\n",
       "      <th>securities</th>\n",
       "      <th>long_term_deposit</th>\n",
       "      <th>em_account_pp</th>\n",
       "      <th>credit_card</th>\n",
       "      <th>payroll</th>\n",
       "      <th>pension_plan</th>\n",
       "      <th>payroll_account</th>\n",
       "      <th>emc_account</th>\n",
       "      <th>debit_card</th>\n",
       "      <th>em_account_p</th>\n",
       "      <th>em_acount</th>\n",
       "    </tr>\n",
       "  </thead>\n",
       "  <tbody>\n",
       "    <tr>\n",
       "      <th>0</th>\n",
       "      <td>1375586</td>\n",
       "      <td>2018-01</td>\n",
       "      <td>0</td>\n",
       "      <td>0</td>\n",
       "      <td>0</td>\n",
       "      <td>0</td>\n",
       "      <td>0</td>\n",
       "      <td>0</td>\n",
       "      <td>0</td>\n",
       "      <td>0</td>\n",
       "      <td>0.0</td>\n",
       "      <td>0.0</td>\n",
       "      <td>0</td>\n",
       "      <td>0</td>\n",
       "      <td>0</td>\n",
       "      <td>0</td>\n",
       "      <td>1</td>\n",
       "    </tr>\n",
       "    <tr>\n",
       "      <th>1</th>\n",
       "      <td>1050611</td>\n",
       "      <td>2018-01</td>\n",
       "      <td>0</td>\n",
       "      <td>0</td>\n",
       "      <td>0</td>\n",
       "      <td>0</td>\n",
       "      <td>0</td>\n",
       "      <td>0</td>\n",
       "      <td>0</td>\n",
       "      <td>0</td>\n",
       "      <td>0.0</td>\n",
       "      <td>0.0</td>\n",
       "      <td>0</td>\n",
       "      <td>0</td>\n",
       "      <td>0</td>\n",
       "      <td>0</td>\n",
       "      <td>1</td>\n",
       "    </tr>\n",
       "    <tr>\n",
       "      <th>2</th>\n",
       "      <td>1050612</td>\n",
       "      <td>2018-01</td>\n",
       "      <td>0</td>\n",
       "      <td>0</td>\n",
       "      <td>0</td>\n",
       "      <td>0</td>\n",
       "      <td>0</td>\n",
       "      <td>0</td>\n",
       "      <td>0</td>\n",
       "      <td>0</td>\n",
       "      <td>0.0</td>\n",
       "      <td>0.0</td>\n",
       "      <td>0</td>\n",
       "      <td>0</td>\n",
       "      <td>0</td>\n",
       "      <td>0</td>\n",
       "      <td>1</td>\n",
       "    </tr>\n",
       "    <tr>\n",
       "      <th>3</th>\n",
       "      <td>1050613</td>\n",
       "      <td>2018-01</td>\n",
       "      <td>1</td>\n",
       "      <td>0</td>\n",
       "      <td>0</td>\n",
       "      <td>0</td>\n",
       "      <td>0</td>\n",
       "      <td>0</td>\n",
       "      <td>0</td>\n",
       "      <td>0</td>\n",
       "      <td>0.0</td>\n",
       "      <td>0.0</td>\n",
       "      <td>0</td>\n",
       "      <td>0</td>\n",
       "      <td>0</td>\n",
       "      <td>0</td>\n",
       "      <td>0</td>\n",
       "    </tr>\n",
       "    <tr>\n",
       "      <th>4</th>\n",
       "      <td>1050614</td>\n",
       "      <td>2018-01</td>\n",
       "      <td>0</td>\n",
       "      <td>0</td>\n",
       "      <td>0</td>\n",
       "      <td>0</td>\n",
       "      <td>0</td>\n",
       "      <td>0</td>\n",
       "      <td>0</td>\n",
       "      <td>0</td>\n",
       "      <td>0.0</td>\n",
       "      <td>0.0</td>\n",
       "      <td>0</td>\n",
       "      <td>0</td>\n",
       "      <td>0</td>\n",
       "      <td>0</td>\n",
       "      <td>1</td>\n",
       "    </tr>\n",
       "  </tbody>\n",
       "</table>\n",
       "</div>"
      ],
      "text/plain": [
       "    pk_cid pk_partition  short_term_deposit  loans  mortgage  funds  \\\n",
       "0  1375586      2018-01                   0      0         0      0   \n",
       "1  1050611      2018-01                   0      0         0      0   \n",
       "2  1050612      2018-01                   0      0         0      0   \n",
       "3  1050613      2018-01                   1      0         0      0   \n",
       "4  1050614      2018-01                   0      0         0      0   \n",
       "\n",
       "   securities  long_term_deposit  em_account_pp  credit_card  payroll  \\\n",
       "0           0                  0              0            0      0.0   \n",
       "1           0                  0              0            0      0.0   \n",
       "2           0                  0              0            0      0.0   \n",
       "3           0                  0              0            0      0.0   \n",
       "4           0                  0              0            0      0.0   \n",
       "\n",
       "   pension_plan  payroll_account  emc_account  debit_card  em_account_p  \\\n",
       "0           0.0                0            0           0             0   \n",
       "1           0.0                0            0           0             0   \n",
       "2           0.0                0            0           0             0   \n",
       "3           0.0                0            0           0             0   \n",
       "4           0.0                0            0           0             0   \n",
       "\n",
       "   em_acount  \n",
       "0          1  \n",
       "1          1  \n",
       "2          1  \n",
       "3          0  \n",
       "4          1  "
      ]
     },
     "execution_count": 48,
     "metadata": {},
     "output_type": "execute_result"
    }
   ],
   "source": [
    "dfCustomer_product.head()"
   ]
  },
  {
   "cell_type": "code",
   "execution_count": 49,
   "metadata": {},
   "outputs": [
    {
     "name": "stdout",
     "output_type": "stream",
     "text": [
      "<class 'pandas.core.frame.DataFrame'>\n",
      "Index: 5962924 entries, 0 to 13647308\n",
      "Data columns (total 17 columns):\n",
      " #   Column              Dtype  \n",
      "---  ------              -----  \n",
      " 0   pk_cid              int64  \n",
      " 1   pk_partition        object \n",
      " 2   short_term_deposit  int64  \n",
      " 3   loans               int64  \n",
      " 4   mortgage            int64  \n",
      " 5   funds               int64  \n",
      " 6   securities          int64  \n",
      " 7   long_term_deposit   int64  \n",
      " 8   em_account_pp       int64  \n",
      " 9   credit_card         int64  \n",
      " 10  payroll             float64\n",
      " 11  pension_plan        float64\n",
      " 12  payroll_account     int64  \n",
      " 13  emc_account         int64  \n",
      " 14  debit_card          int64  \n",
      " 15  em_account_p        int64  \n",
      " 16  em_acount           int64  \n",
      "dtypes: float64(2), int64(14), object(1)\n",
      "memory usage: 818.9+ MB\n"
     ]
    }
   ],
   "source": [
    "dfCustomer_product.info(verbose = True)"
   ]
  },
  {
   "cell_type": "markdown",
   "metadata": {},
   "source": [
    "### CONTEO DE DUPLICADOS"
   ]
  },
  {
   "cell_type": "code",
   "execution_count": 50,
   "metadata": {},
   "outputs": [
    {
     "data": {
      "text/html": [
       "<div>\n",
       "<style scoped>\n",
       "    .dataframe tbody tr th:only-of-type {\n",
       "        vertical-align: middle;\n",
       "    }\n",
       "\n",
       "    .dataframe tbody tr th {\n",
       "        vertical-align: top;\n",
       "    }\n",
       "\n",
       "    .dataframe thead th {\n",
       "        text-align: right;\n",
       "    }\n",
       "</style>\n",
       "<table border=\"1\" class=\"dataframe\">\n",
       "  <thead>\n",
       "    <tr style=\"text-align: right;\">\n",
       "      <th></th>\n",
       "      <th>pk_cid</th>\n",
       "      <th>pk_partition</th>\n",
       "      <th>short_term_deposit</th>\n",
       "      <th>loans</th>\n",
       "      <th>mortgage</th>\n",
       "      <th>funds</th>\n",
       "      <th>securities</th>\n",
       "      <th>long_term_deposit</th>\n",
       "      <th>em_account_pp</th>\n",
       "      <th>credit_card</th>\n",
       "      <th>payroll</th>\n",
       "      <th>pension_plan</th>\n",
       "      <th>payroll_account</th>\n",
       "      <th>emc_account</th>\n",
       "      <th>debit_card</th>\n",
       "      <th>em_account_p</th>\n",
       "      <th>em_acount</th>\n",
       "    </tr>\n",
       "  </thead>\n",
       "  <tbody>\n",
       "  </tbody>\n",
       "</table>\n",
       "</div>"
      ],
      "text/plain": [
       "Empty DataFrame\n",
       "Columns: [pk_cid, pk_partition, short_term_deposit, loans, mortgage, funds, securities, long_term_deposit, em_account_pp, credit_card, payroll, pension_plan, payroll_account, emc_account, debit_card, em_account_p, em_acount]\n",
       "Index: []"
      ]
     },
     "execution_count": 50,
     "metadata": {},
     "output_type": "execute_result"
    }
   ],
   "source": [
    "dfCustomer_product[dfCustomer_product.duplicated()]\n",
    "\n",
    "# No hay duplicados"
   ]
  },
  {
   "cell_type": "markdown",
   "metadata": {},
   "source": [
    "### CONTEO DE NULOS"
   ]
  },
  {
   "cell_type": "code",
   "execution_count": 51,
   "metadata": {},
   "outputs": [
    {
     "data": {
      "text/plain": [
       "pk_cid                 0\n",
       "short_term_deposit     0\n",
       "loans                  0\n",
       "mortgage               0\n",
       "funds                  0\n",
       "securities             0\n",
       "long_term_deposit      0\n",
       "em_account_pp          0\n",
       "credit_card            0\n",
       "payroll               61\n",
       "pension_plan          61\n",
       "payroll_account        0\n",
       "emc_account            0\n",
       "debit_card             0\n",
       "em_account_p           0\n",
       "em_acount              0\n",
       "dtype: int64"
      ]
     },
     "execution_count": 51,
     "metadata": {},
     "output_type": "execute_result"
    }
   ],
   "source": [
    "dfCustomer_product.select_dtypes(include = ['number']).isnull().sum()"
   ]
  },
  {
   "cell_type": "code",
   "execution_count": 52,
   "metadata": {},
   "outputs": [
    {
     "data": {
      "text/plain": [
       "pk_partition    0\n",
       "dtype: int64"
      ]
     },
     "execution_count": 52,
     "metadata": {},
     "output_type": "execute_result"
    }
   ],
   "source": [
    "dfCustomer_product.select_dtypes(exclude = ['number']).isnull().sum()"
   ]
  },
  {
   "cell_type": "markdown",
   "metadata": {},
   "source": [
    "### DATA PREPARATION"
   ]
  },
  {
   "cell_type": "code",
   "execution_count": 53,
   "metadata": {},
   "outputs": [],
   "source": [
    "lnum_Customer_product, lbool_Customer_product, lcat_Customer_product= obtener_lista_variables(dfCustomer_product)"
   ]
  },
  {
   "cell_type": "code",
   "execution_count": 54,
   "metadata": {},
   "outputs": [
    {
     "data": {
      "text/plain": [
       "payroll\n",
       "0.0    5757076\n",
       "1.0     205787\n",
       "Name: count, dtype: int64"
      ]
     },
     "execution_count": 54,
     "metadata": {},
     "output_type": "execute_result"
    }
   ],
   "source": [
    "dfCustomer_product['payroll'].value_counts()"
   ]
  },
  {
   "cell_type": "code",
   "execution_count": 55,
   "metadata": {},
   "outputs": [
    {
     "data": {
      "text/plain": [
       "pension_plan\n",
       "0.0    5745061\n",
       "1.0     217802\n",
       "Name: count, dtype: int64"
      ]
     },
     "execution_count": 55,
     "metadata": {},
     "output_type": "execute_result"
    }
   ],
   "source": [
    "dfCustomer_product['pension_plan'].value_counts()"
   ]
  },
  {
   "cell_type": "code",
   "execution_count": 56,
   "metadata": {},
   "outputs": [],
   "source": [
    "# Cambiamos numéricas a categóricas\n",
    "\n",
    "column_name = ['pk_cid']"
   ]
  },
  {
   "cell_type": "code",
   "execution_count": 57,
   "metadata": {},
   "outputs": [],
   "source": [
    "def cambio_cat(column_name):\n",
    "  dfCustomer_product[column_name] = dfCustomer_product[column_name].astype(object)\n",
    "\n",
    "  return dfCustomer_product[column_name]"
   ]
  },
  {
   "cell_type": "code",
   "execution_count": 58,
   "metadata": {},
   "outputs": [
    {
     "data": {
      "text/html": [
       "<div>\n",
       "<style scoped>\n",
       "    .dataframe tbody tr th:only-of-type {\n",
       "        vertical-align: middle;\n",
       "    }\n",
       "\n",
       "    .dataframe tbody tr th {\n",
       "        vertical-align: top;\n",
       "    }\n",
       "\n",
       "    .dataframe thead th {\n",
       "        text-align: right;\n",
       "    }\n",
       "</style>\n",
       "<table border=\"1\" class=\"dataframe\">\n",
       "  <thead>\n",
       "    <tr style=\"text-align: right;\">\n",
       "      <th></th>\n",
       "      <th>pk_cid</th>\n",
       "    </tr>\n",
       "  </thead>\n",
       "  <tbody>\n",
       "    <tr>\n",
       "      <th>0</th>\n",
       "      <td>1375586</td>\n",
       "    </tr>\n",
       "    <tr>\n",
       "      <th>1</th>\n",
       "      <td>1050611</td>\n",
       "    </tr>\n",
       "    <tr>\n",
       "      <th>2</th>\n",
       "      <td>1050612</td>\n",
       "    </tr>\n",
       "    <tr>\n",
       "      <th>3</th>\n",
       "      <td>1050613</td>\n",
       "    </tr>\n",
       "    <tr>\n",
       "      <th>4</th>\n",
       "      <td>1050614</td>\n",
       "    </tr>\n",
       "    <tr>\n",
       "      <th>...</th>\n",
       "      <td>...</td>\n",
       "    </tr>\n",
       "    <tr>\n",
       "      <th>13647304</th>\n",
       "      <td>1166765</td>\n",
       "    </tr>\n",
       "    <tr>\n",
       "      <th>13647305</th>\n",
       "      <td>1166764</td>\n",
       "    </tr>\n",
       "    <tr>\n",
       "      <th>13647306</th>\n",
       "      <td>1166763</td>\n",
       "    </tr>\n",
       "    <tr>\n",
       "      <th>13647307</th>\n",
       "      <td>1166789</td>\n",
       "    </tr>\n",
       "    <tr>\n",
       "      <th>13647308</th>\n",
       "      <td>1550586</td>\n",
       "    </tr>\n",
       "  </tbody>\n",
       "</table>\n",
       "<p>5962924 rows × 1 columns</p>\n",
       "</div>"
      ],
      "text/plain": [
       "           pk_cid\n",
       "0         1375586\n",
       "1         1050611\n",
       "2         1050612\n",
       "3         1050613\n",
       "4         1050614\n",
       "...           ...\n",
       "13647304  1166765\n",
       "13647305  1166764\n",
       "13647306  1166763\n",
       "13647307  1166789\n",
       "13647308  1550586\n",
       "\n",
       "[5962924 rows x 1 columns]"
      ]
     },
     "execution_count": 58,
     "metadata": {},
     "output_type": "execute_result"
    }
   ],
   "source": [
    "cambio_cat(column_name)"
   ]
  },
  {
   "cell_type": "code",
   "execution_count": 59,
   "metadata": {},
   "outputs": [],
   "source": [
    "# Cambiamos a fecha\n",
    "dfCustomer_product[\"pk_partition\"] = pd.to_datetime(dfCustomer_product[\"pk_partition\"], format = \"%Y-%m\")"
   ]
  },
  {
   "cell_type": "code",
   "execution_count": 60,
   "metadata": {},
   "outputs": [
    {
     "name": "stdout",
     "output_type": "stream",
     "text": [
      "<class 'pandas.core.frame.DataFrame'>\n",
      "Index: 5962924 entries, 0 to 13647308\n",
      "Data columns (total 17 columns):\n",
      " #   Column              Dtype         \n",
      "---  ------              -----         \n",
      " 0   pk_cid              object        \n",
      " 1   pk_partition        datetime64[ns]\n",
      " 2   short_term_deposit  int64         \n",
      " 3   loans               int64         \n",
      " 4   mortgage            int64         \n",
      " 5   funds               int64         \n",
      " 6   securities          int64         \n",
      " 7   long_term_deposit   int64         \n",
      " 8   em_account_pp       int64         \n",
      " 9   credit_card         int64         \n",
      " 10  payroll             float64       \n",
      " 11  pension_plan        float64       \n",
      " 12  payroll_account     int64         \n",
      " 13  emc_account         int64         \n",
      " 14  debit_card          int64         \n",
      " 15  em_account_p        int64         \n",
      " 16  em_acount           int64         \n",
      "dtypes: datetime64[ns](1), float64(2), int64(13), object(1)\n",
      "memory usage: 818.9+ MB\n"
     ]
    }
   ],
   "source": [
    "# Comprobamos conversión\n",
    "\n",
    "dfCustomer_product.info()"
   ]
  },
  {
   "cell_type": "code",
   "execution_count": 61,
   "metadata": {},
   "outputs": [
    {
     "data": {
      "text/html": [
       "<div>\n",
       "<style scoped>\n",
       "    .dataframe tbody tr th:only-of-type {\n",
       "        vertical-align: middle;\n",
       "    }\n",
       "\n",
       "    .dataframe tbody tr th {\n",
       "        vertical-align: top;\n",
       "    }\n",
       "\n",
       "    .dataframe thead th {\n",
       "        text-align: right;\n",
       "    }\n",
       "</style>\n",
       "<table border=\"1\" class=\"dataframe\">\n",
       "  <thead>\n",
       "    <tr style=\"text-align: right;\">\n",
       "      <th></th>\n",
       "      <th>pk_cid</th>\n",
       "      <th>pk_partition</th>\n",
       "      <th>short_term_deposit</th>\n",
       "      <th>loans</th>\n",
       "      <th>mortgage</th>\n",
       "      <th>funds</th>\n",
       "      <th>securities</th>\n",
       "      <th>long_term_deposit</th>\n",
       "      <th>em_account_pp</th>\n",
       "      <th>credit_card</th>\n",
       "      <th>payroll</th>\n",
       "      <th>pension_plan</th>\n",
       "      <th>payroll_account</th>\n",
       "      <th>emc_account</th>\n",
       "      <th>debit_card</th>\n",
       "      <th>em_account_p</th>\n",
       "      <th>em_acount</th>\n",
       "    </tr>\n",
       "  </thead>\n",
       "  <tbody>\n",
       "    <tr>\n",
       "      <th>0</th>\n",
       "      <td>1375586</td>\n",
       "      <td>2018-01-01</td>\n",
       "      <td>0</td>\n",
       "      <td>0</td>\n",
       "      <td>0</td>\n",
       "      <td>0</td>\n",
       "      <td>0</td>\n",
       "      <td>0</td>\n",
       "      <td>0</td>\n",
       "      <td>0</td>\n",
       "      <td>0.0</td>\n",
       "      <td>0.0</td>\n",
       "      <td>0</td>\n",
       "      <td>0</td>\n",
       "      <td>0</td>\n",
       "      <td>0</td>\n",
       "      <td>1</td>\n",
       "    </tr>\n",
       "    <tr>\n",
       "      <th>1</th>\n",
       "      <td>1050611</td>\n",
       "      <td>2018-01-01</td>\n",
       "      <td>0</td>\n",
       "      <td>0</td>\n",
       "      <td>0</td>\n",
       "      <td>0</td>\n",
       "      <td>0</td>\n",
       "      <td>0</td>\n",
       "      <td>0</td>\n",
       "      <td>0</td>\n",
       "      <td>0.0</td>\n",
       "      <td>0.0</td>\n",
       "      <td>0</td>\n",
       "      <td>0</td>\n",
       "      <td>0</td>\n",
       "      <td>0</td>\n",
       "      <td>1</td>\n",
       "    </tr>\n",
       "    <tr>\n",
       "      <th>2</th>\n",
       "      <td>1050612</td>\n",
       "      <td>2018-01-01</td>\n",
       "      <td>0</td>\n",
       "      <td>0</td>\n",
       "      <td>0</td>\n",
       "      <td>0</td>\n",
       "      <td>0</td>\n",
       "      <td>0</td>\n",
       "      <td>0</td>\n",
       "      <td>0</td>\n",
       "      <td>0.0</td>\n",
       "      <td>0.0</td>\n",
       "      <td>0</td>\n",
       "      <td>0</td>\n",
       "      <td>0</td>\n",
       "      <td>0</td>\n",
       "      <td>1</td>\n",
       "    </tr>\n",
       "    <tr>\n",
       "      <th>3</th>\n",
       "      <td>1050613</td>\n",
       "      <td>2018-01-01</td>\n",
       "      <td>1</td>\n",
       "      <td>0</td>\n",
       "      <td>0</td>\n",
       "      <td>0</td>\n",
       "      <td>0</td>\n",
       "      <td>0</td>\n",
       "      <td>0</td>\n",
       "      <td>0</td>\n",
       "      <td>0.0</td>\n",
       "      <td>0.0</td>\n",
       "      <td>0</td>\n",
       "      <td>0</td>\n",
       "      <td>0</td>\n",
       "      <td>0</td>\n",
       "      <td>0</td>\n",
       "    </tr>\n",
       "    <tr>\n",
       "      <th>4</th>\n",
       "      <td>1050614</td>\n",
       "      <td>2018-01-01</td>\n",
       "      <td>0</td>\n",
       "      <td>0</td>\n",
       "      <td>0</td>\n",
       "      <td>0</td>\n",
       "      <td>0</td>\n",
       "      <td>0</td>\n",
       "      <td>0</td>\n",
       "      <td>0</td>\n",
       "      <td>0.0</td>\n",
       "      <td>0.0</td>\n",
       "      <td>0</td>\n",
       "      <td>0</td>\n",
       "      <td>0</td>\n",
       "      <td>0</td>\n",
       "      <td>1</td>\n",
       "    </tr>\n",
       "  </tbody>\n",
       "</table>\n",
       "</div>"
      ],
      "text/plain": [
       "    pk_cid pk_partition  short_term_deposit  loans  mortgage  funds  \\\n",
       "0  1375586   2018-01-01                   0      0         0      0   \n",
       "1  1050611   2018-01-01                   0      0         0      0   \n",
       "2  1050612   2018-01-01                   0      0         0      0   \n",
       "3  1050613   2018-01-01                   1      0         0      0   \n",
       "4  1050614   2018-01-01                   0      0         0      0   \n",
       "\n",
       "   securities  long_term_deposit  em_account_pp  credit_card  payroll  \\\n",
       "0           0                  0              0            0      0.0   \n",
       "1           0                  0              0            0      0.0   \n",
       "2           0                  0              0            0      0.0   \n",
       "3           0                  0              0            0      0.0   \n",
       "4           0                  0              0            0      0.0   \n",
       "\n",
       "   pension_plan  payroll_account  emc_account  debit_card  em_account_p  \\\n",
       "0           0.0                0            0           0             0   \n",
       "1           0.0                0            0           0             0   \n",
       "2           0.0                0            0           0             0   \n",
       "3           0.0                0            0           0             0   \n",
       "4           0.0                0            0           0             0   \n",
       "\n",
       "   em_acount  \n",
       "0          1  \n",
       "1          1  \n",
       "2          1  \n",
       "3          0  \n",
       "4          1  "
      ]
     },
     "execution_count": 61,
     "metadata": {},
     "output_type": "execute_result"
    }
   ],
   "source": [
    "dfCustomer_product.head()"
   ]
  },
  {
   "cell_type": "markdown",
   "metadata": {},
   "source": [
    "#### Limpieza de atributos: Nulos"
   ]
  },
  {
   "cell_type": "code",
   "execution_count": 62,
   "metadata": {},
   "outputs": [],
   "source": [
    "# Eliminamos las filas con valores nulos ya que son una cantidad muy reducida (61).\n",
    "dfCustomer_product = dfCustomer_product.dropna(subset=['payroll'])\n",
    "dfCustomer_product = dfCustomer_product.dropna(subset=['pension_plan'])"
   ]
  },
  {
   "cell_type": "code",
   "execution_count": 63,
   "metadata": {},
   "outputs": [
    {
     "data": {
      "text/plain": [
       "pk_cid                0\n",
       "pk_partition          0\n",
       "short_term_deposit    0\n",
       "loans                 0\n",
       "mortgage              0\n",
       "funds                 0\n",
       "securities            0\n",
       "long_term_deposit     0\n",
       "em_account_pp         0\n",
       "credit_card           0\n",
       "payroll               0\n",
       "pension_plan          0\n",
       "payroll_account       0\n",
       "emc_account           0\n",
       "debit_card            0\n",
       "em_account_p          0\n",
       "em_acount             0\n",
       "dtype: int64"
      ]
     },
     "execution_count": 63,
     "metadata": {},
     "output_type": "execute_result"
    }
   ],
   "source": [
    "dfCustomer_product.isnull().sum()"
   ]
  },
  {
   "cell_type": "markdown",
   "metadata": {},
   "source": [
    "## dfComercial"
   ]
  },
  {
   "cell_type": "markdown",
   "metadata": {},
   "source": [
    "### DATA UNDERSTANDING Y VISUALIZACIÓN"
   ]
  },
  {
   "cell_type": "code",
   "execution_count": 64,
   "metadata": {},
   "outputs": [
    {
     "data": {
      "text/html": [
       "<div>\n",
       "<style scoped>\n",
       "    .dataframe tbody tr th:only-of-type {\n",
       "        vertical-align: middle;\n",
       "    }\n",
       "\n",
       "    .dataframe tbody tr th {\n",
       "        vertical-align: top;\n",
       "    }\n",
       "\n",
       "    .dataframe thead th {\n",
       "        text-align: right;\n",
       "    }\n",
       "</style>\n",
       "<table border=\"1\" class=\"dataframe\">\n",
       "  <thead>\n",
       "    <tr style=\"text-align: right;\">\n",
       "      <th></th>\n",
       "      <th>pk_cid</th>\n",
       "      <th>pk_partition</th>\n",
       "      <th>entry_date</th>\n",
       "      <th>entry_channel</th>\n",
       "      <th>active_customer</th>\n",
       "      <th>segment</th>\n",
       "    </tr>\n",
       "  </thead>\n",
       "  <tbody>\n",
       "    <tr>\n",
       "      <th>0</th>\n",
       "      <td>1375586</td>\n",
       "      <td>2018-01</td>\n",
       "      <td>2018-01</td>\n",
       "      <td>KHL</td>\n",
       "      <td>1.0</td>\n",
       "      <td>02 - PARTICULARES</td>\n",
       "    </tr>\n",
       "    <tr>\n",
       "      <th>1</th>\n",
       "      <td>1050611</td>\n",
       "      <td>2018-01</td>\n",
       "      <td>2015-08</td>\n",
       "      <td>KHE</td>\n",
       "      <td>0.0</td>\n",
       "      <td>03 - UNIVERSITARIO</td>\n",
       "    </tr>\n",
       "    <tr>\n",
       "      <th>2</th>\n",
       "      <td>1050612</td>\n",
       "      <td>2018-01</td>\n",
       "      <td>2015-08</td>\n",
       "      <td>KHE</td>\n",
       "      <td>0.0</td>\n",
       "      <td>03 - UNIVERSITARIO</td>\n",
       "    </tr>\n",
       "    <tr>\n",
       "      <th>3</th>\n",
       "      <td>1050613</td>\n",
       "      <td>2018-01</td>\n",
       "      <td>2015-08</td>\n",
       "      <td>KHD</td>\n",
       "      <td>0.0</td>\n",
       "      <td>03 - UNIVERSITARIO</td>\n",
       "    </tr>\n",
       "    <tr>\n",
       "      <th>4</th>\n",
       "      <td>1050614</td>\n",
       "      <td>2018-01</td>\n",
       "      <td>2015-08</td>\n",
       "      <td>KHE</td>\n",
       "      <td>1.0</td>\n",
       "      <td>03 - UNIVERSITARIO</td>\n",
       "    </tr>\n",
       "  </tbody>\n",
       "</table>\n",
       "</div>"
      ],
      "text/plain": [
       "    pk_cid pk_partition entry_date entry_channel  active_customer  \\\n",
       "0  1375586      2018-01    2018-01           KHL              1.0   \n",
       "1  1050611      2018-01    2015-08           KHE              0.0   \n",
       "2  1050612      2018-01    2015-08           KHE              0.0   \n",
       "3  1050613      2018-01    2015-08           KHD              0.0   \n",
       "4  1050614      2018-01    2015-08           KHE              1.0   \n",
       "\n",
       "              segment  \n",
       "0   02 - PARTICULARES  \n",
       "1  03 - UNIVERSITARIO  \n",
       "2  03 - UNIVERSITARIO  \n",
       "3  03 - UNIVERSITARIO  \n",
       "4  03 - UNIVERSITARIO  "
      ]
     },
     "execution_count": 64,
     "metadata": {},
     "output_type": "execute_result"
    }
   ],
   "source": [
    "dfComercial.head()"
   ]
  },
  {
   "cell_type": "code",
   "execution_count": 65,
   "metadata": {},
   "outputs": [
    {
     "name": "stdout",
     "output_type": "stream",
     "text": [
      "<class 'pandas.core.frame.DataFrame'>\n",
      "Index: 5962924 entries, 0 to 13647308\n",
      "Data columns (total 6 columns):\n",
      " #   Column           Dtype  \n",
      "---  ------           -----  \n",
      " 0   pk_cid           int64  \n",
      " 1   pk_partition     object \n",
      " 2   entry_date       object \n",
      " 3   entry_channel    object \n",
      " 4   active_customer  float64\n",
      " 5   segment          object \n",
      "dtypes: float64(1), int64(1), object(4)\n",
      "memory usage: 318.5+ MB\n"
     ]
    }
   ],
   "source": [
    "dfComercial.info(verbose = True)"
   ]
  },
  {
   "cell_type": "markdown",
   "metadata": {},
   "source": [
    "### CONTEO DE DUPLICADOS"
   ]
  },
  {
   "cell_type": "code",
   "execution_count": 66,
   "metadata": {},
   "outputs": [
    {
     "data": {
      "text/html": [
       "<div>\n",
       "<style scoped>\n",
       "    .dataframe tbody tr th:only-of-type {\n",
       "        vertical-align: middle;\n",
       "    }\n",
       "\n",
       "    .dataframe tbody tr th {\n",
       "        vertical-align: top;\n",
       "    }\n",
       "\n",
       "    .dataframe thead th {\n",
       "        text-align: right;\n",
       "    }\n",
       "</style>\n",
       "<table border=\"1\" class=\"dataframe\">\n",
       "  <thead>\n",
       "    <tr style=\"text-align: right;\">\n",
       "      <th></th>\n",
       "      <th>pk_cid</th>\n",
       "      <th>pk_partition</th>\n",
       "      <th>entry_date</th>\n",
       "      <th>entry_channel</th>\n",
       "      <th>active_customer</th>\n",
       "      <th>segment</th>\n",
       "    </tr>\n",
       "  </thead>\n",
       "  <tbody>\n",
       "  </tbody>\n",
       "</table>\n",
       "</div>"
      ],
      "text/plain": [
       "Empty DataFrame\n",
       "Columns: [pk_cid, pk_partition, entry_date, entry_channel, active_customer, segment]\n",
       "Index: []"
      ]
     },
     "execution_count": 66,
     "metadata": {},
     "output_type": "execute_result"
    }
   ],
   "source": [
    "dfComercial[dfComercial.duplicated()]\n",
    "\n",
    "# No hay duplicados"
   ]
  },
  {
   "cell_type": "markdown",
   "metadata": {},
   "source": [
    "### CONTEO DE NULOS"
   ]
  },
  {
   "cell_type": "code",
   "execution_count": 67,
   "metadata": {},
   "outputs": [
    {
     "data": {
      "text/plain": [
       "pk_cid             0\n",
       "active_customer    0\n",
       "dtype: int64"
      ]
     },
     "execution_count": 67,
     "metadata": {},
     "output_type": "execute_result"
    }
   ],
   "source": [
    "dfComercial.select_dtypes(include = ['number']).isnull().sum()"
   ]
  },
  {
   "cell_type": "code",
   "execution_count": 68,
   "metadata": {},
   "outputs": [
    {
     "data": {
      "text/plain": [
       "pk_partition          0\n",
       "entry_date            0\n",
       "entry_channel    133033\n",
       "segment          133944\n",
       "dtype: int64"
      ]
     },
     "execution_count": 68,
     "metadata": {},
     "output_type": "execute_result"
    }
   ],
   "source": [
    "dfComercial.select_dtypes(exclude = ['number']).isnull().sum()"
   ]
  },
  {
   "cell_type": "markdown",
   "metadata": {},
   "source": [
    "### DATA PREPARATION"
   ]
  },
  {
   "cell_type": "code",
   "execution_count": 69,
   "metadata": {},
   "outputs": [],
   "source": [
    "lnum_Comercial, lbool_Comercial, lcat_Comercial= obtener_lista_variables(dfComercial)"
   ]
  },
  {
   "cell_type": "code",
   "execution_count": 70,
   "metadata": {},
   "outputs": [],
   "source": [
    "# Cambiamos numéricas a categóricas\n",
    "\n",
    "column_name = ['pk_cid']"
   ]
  },
  {
   "cell_type": "code",
   "execution_count": 71,
   "metadata": {},
   "outputs": [],
   "source": [
    "def cambio_cat(column_name):\n",
    "  dfComercial[column_name] = dfComercial[column_name].astype(object)\n",
    "\n",
    "  return dfComercial[column_name]"
   ]
  },
  {
   "cell_type": "code",
   "execution_count": 72,
   "metadata": {},
   "outputs": [
    {
     "data": {
      "text/html": [
       "<div>\n",
       "<style scoped>\n",
       "    .dataframe tbody tr th:only-of-type {\n",
       "        vertical-align: middle;\n",
       "    }\n",
       "\n",
       "    .dataframe tbody tr th {\n",
       "        vertical-align: top;\n",
       "    }\n",
       "\n",
       "    .dataframe thead th {\n",
       "        text-align: right;\n",
       "    }\n",
       "</style>\n",
       "<table border=\"1\" class=\"dataframe\">\n",
       "  <thead>\n",
       "    <tr style=\"text-align: right;\">\n",
       "      <th></th>\n",
       "      <th>pk_cid</th>\n",
       "    </tr>\n",
       "  </thead>\n",
       "  <tbody>\n",
       "    <tr>\n",
       "      <th>0</th>\n",
       "      <td>1375586</td>\n",
       "    </tr>\n",
       "    <tr>\n",
       "      <th>1</th>\n",
       "      <td>1050611</td>\n",
       "    </tr>\n",
       "    <tr>\n",
       "      <th>2</th>\n",
       "      <td>1050612</td>\n",
       "    </tr>\n",
       "    <tr>\n",
       "      <th>3</th>\n",
       "      <td>1050613</td>\n",
       "    </tr>\n",
       "    <tr>\n",
       "      <th>4</th>\n",
       "      <td>1050614</td>\n",
       "    </tr>\n",
       "    <tr>\n",
       "      <th>...</th>\n",
       "      <td>...</td>\n",
       "    </tr>\n",
       "    <tr>\n",
       "      <th>13647304</th>\n",
       "      <td>1166765</td>\n",
       "    </tr>\n",
       "    <tr>\n",
       "      <th>13647305</th>\n",
       "      <td>1166764</td>\n",
       "    </tr>\n",
       "    <tr>\n",
       "      <th>13647306</th>\n",
       "      <td>1166763</td>\n",
       "    </tr>\n",
       "    <tr>\n",
       "      <th>13647307</th>\n",
       "      <td>1166789</td>\n",
       "    </tr>\n",
       "    <tr>\n",
       "      <th>13647308</th>\n",
       "      <td>1550586</td>\n",
       "    </tr>\n",
       "  </tbody>\n",
       "</table>\n",
       "<p>5962924 rows × 1 columns</p>\n",
       "</div>"
      ],
      "text/plain": [
       "           pk_cid\n",
       "0         1375586\n",
       "1         1050611\n",
       "2         1050612\n",
       "3         1050613\n",
       "4         1050614\n",
       "...           ...\n",
       "13647304  1166765\n",
       "13647305  1166764\n",
       "13647306  1166763\n",
       "13647307  1166789\n",
       "13647308  1550586\n",
       "\n",
       "[5962924 rows x 1 columns]"
      ]
     },
     "execution_count": 72,
     "metadata": {},
     "output_type": "execute_result"
    }
   ],
   "source": [
    "cambio_cat(column_name)"
   ]
  },
  {
   "cell_type": "code",
   "execution_count": 73,
   "metadata": {},
   "outputs": [],
   "source": [
    "# Cambiamos a fecha\n",
    "dfComercial[\"pk_partition\"] = pd.to_datetime(dfComercial[\"pk_partition\"], format = \"%Y-%m\")\n",
    "dfComercial[\"entry_date\"] = pd.to_datetime(dfComercial[\"entry_date\"], format = \"%Y-%m\")"
   ]
  },
  {
   "cell_type": "code",
   "execution_count": 74,
   "metadata": {},
   "outputs": [
    {
     "name": "stdout",
     "output_type": "stream",
     "text": [
      "<class 'pandas.core.frame.DataFrame'>\n",
      "Index: 5962924 entries, 0 to 13647308\n",
      "Data columns (total 6 columns):\n",
      " #   Column           Dtype         \n",
      "---  ------           -----         \n",
      " 0   pk_cid           object        \n",
      " 1   pk_partition     datetime64[ns]\n",
      " 2   entry_date       datetime64[ns]\n",
      " 3   entry_channel    object        \n",
      " 4   active_customer  float64       \n",
      " 5   segment          object        \n",
      "dtypes: datetime64[ns](2), float64(1), object(3)\n",
      "memory usage: 318.5+ MB\n"
     ]
    }
   ],
   "source": [
    "# Comprobamos conversión\n",
    "\n",
    "dfComercial.info()"
   ]
  },
  {
   "cell_type": "code",
   "execution_count": 75,
   "metadata": {},
   "outputs": [
    {
     "data": {
      "text/html": [
       "<div>\n",
       "<style scoped>\n",
       "    .dataframe tbody tr th:only-of-type {\n",
       "        vertical-align: middle;\n",
       "    }\n",
       "\n",
       "    .dataframe tbody tr th {\n",
       "        vertical-align: top;\n",
       "    }\n",
       "\n",
       "    .dataframe thead th {\n",
       "        text-align: right;\n",
       "    }\n",
       "</style>\n",
       "<table border=\"1\" class=\"dataframe\">\n",
       "  <thead>\n",
       "    <tr style=\"text-align: right;\">\n",
       "      <th></th>\n",
       "      <th>pk_cid</th>\n",
       "      <th>pk_partition</th>\n",
       "      <th>entry_date</th>\n",
       "      <th>entry_channel</th>\n",
       "      <th>active_customer</th>\n",
       "      <th>segment</th>\n",
       "    </tr>\n",
       "  </thead>\n",
       "  <tbody>\n",
       "    <tr>\n",
       "      <th>0</th>\n",
       "      <td>1375586</td>\n",
       "      <td>2018-01-01</td>\n",
       "      <td>2018-01-01</td>\n",
       "      <td>KHL</td>\n",
       "      <td>1.0</td>\n",
       "      <td>PARTICULARES</td>\n",
       "    </tr>\n",
       "    <tr>\n",
       "      <th>1</th>\n",
       "      <td>1050611</td>\n",
       "      <td>2018-01-01</td>\n",
       "      <td>2015-08-01</td>\n",
       "      <td>KHE</td>\n",
       "      <td>0.0</td>\n",
       "      <td>UNIVERSITARIO</td>\n",
       "    </tr>\n",
       "    <tr>\n",
       "      <th>2</th>\n",
       "      <td>1050612</td>\n",
       "      <td>2018-01-01</td>\n",
       "      <td>2015-08-01</td>\n",
       "      <td>KHE</td>\n",
       "      <td>0.0</td>\n",
       "      <td>UNIVERSITARIO</td>\n",
       "    </tr>\n",
       "    <tr>\n",
       "      <th>3</th>\n",
       "      <td>1050613</td>\n",
       "      <td>2018-01-01</td>\n",
       "      <td>2015-08-01</td>\n",
       "      <td>KHD</td>\n",
       "      <td>0.0</td>\n",
       "      <td>UNIVERSITARIO</td>\n",
       "    </tr>\n",
       "    <tr>\n",
       "      <th>4</th>\n",
       "      <td>1050614</td>\n",
       "      <td>2018-01-01</td>\n",
       "      <td>2015-08-01</td>\n",
       "      <td>KHE</td>\n",
       "      <td>1.0</td>\n",
       "      <td>UNIVERSITARIO</td>\n",
       "    </tr>\n",
       "  </tbody>\n",
       "</table>\n",
       "</div>"
      ],
      "text/plain": [
       "    pk_cid pk_partition entry_date entry_channel  active_customer  \\\n",
       "0  1375586   2018-01-01 2018-01-01           KHL              1.0   \n",
       "1  1050611   2018-01-01 2015-08-01           KHE              0.0   \n",
       "2  1050612   2018-01-01 2015-08-01           KHE              0.0   \n",
       "3  1050613   2018-01-01 2015-08-01           KHD              0.0   \n",
       "4  1050614   2018-01-01 2015-08-01           KHE              1.0   \n",
       "\n",
       "         segment  \n",
       "0   PARTICULARES  \n",
       "1  UNIVERSITARIO  \n",
       "2  UNIVERSITARIO  \n",
       "3  UNIVERSITARIO  \n",
       "4  UNIVERSITARIO  "
      ]
     },
     "execution_count": 75,
     "metadata": {},
     "output_type": "execute_result"
    }
   ],
   "source": [
    "# Modificamos columna 'segment' para dejar solo las string ya que no nos aporta nada la parte numérica (01, 02, 03..), nos interesa saber el segmento únicamente.\n",
    "dfComercial['segment'] = dfComercial['segment'].str.extract(r'-\\s*(.*)')\n",
    "dfComercial.head()\n"
   ]
  },
  {
   "cell_type": "markdown",
   "metadata": {},
   "source": [
    "#### Limpieza de atributos: Nulos"
   ]
  },
  {
   "cell_type": "code",
   "execution_count": 76,
   "metadata": {},
   "outputs": [],
   "source": [
    "# Imputamos nulos como 'No Dato'\n",
    "\n",
    "dfComercial['entry_channel'].fillna('No Dato', inplace=True)\n",
    "dfComercial['segment'].fillna('No Dato', inplace=True)"
   ]
  },
  {
   "cell_type": "code",
   "execution_count": 77,
   "metadata": {},
   "outputs": [
    {
     "data": {
      "text/plain": [
       "pk_cid             0\n",
       "pk_partition       0\n",
       "entry_date         0\n",
       "entry_channel      0\n",
       "active_customer    0\n",
       "segment            0\n",
       "dtype: int64"
      ]
     },
     "execution_count": 77,
     "metadata": {},
     "output_type": "execute_result"
    }
   ],
   "source": [
    "dfComercial.isnull().sum()"
   ]
  },
  {
   "cell_type": "markdown",
   "metadata": {},
   "source": [
    "# Guardamos dataframes actualizados en formato csv"
   ]
  },
  {
   "cell_type": "code",
   "execution_count": 78,
   "metadata": {},
   "outputs": [],
   "source": [
    "dfDemographic.to_csv('dfDemographic.csv', index=False)\n",
    "dfSales.to_csv('dfSales.csv', index=False)\n",
    "dfproduct_description.to_csv('dfproduct_description.csv', index=False)\n",
    "dfCustomer_product.to_csv('dfCustomer_product.csv', index=False)\n",
    "dfComercial.to_csv('dfComercial.csv', index=False)\n"
   ]
  },
  {
   "cell_type": "markdown",
   "metadata": {},
   "source": [
    "## Unimos los datasets"
   ]
  },
  {
   "cell_type": "code",
   "execution_count": 79,
   "metadata": {},
   "outputs": [],
   "source": [
    "# Nos quedamos con los datos de cada partición de pksale para cada fecha de venta\n",
    "# Integramos los datos basándonos en el identificador común del cliente (cid o pk_cid)\n",
    "# Comenzamos integrando las ventas con la información del dataset dfCustomer_product\n",
    "df = pd.merge(dfSales, dfCustomer_product, left_on=['cid', 'month_sale'], right_on=['pk_cid', 'pk_partition'], how='left')\n"
   ]
  },
  {
   "cell_type": "code",
   "execution_count": 80,
   "metadata": {},
   "outputs": [
    {
     "name": "stdout",
     "output_type": "stream",
     "text": [
      "<class 'pandas.core.frame.DataFrame'>\n",
      "RangeIndex: 240773 entries, 0 to 240772\n",
      "Data columns (total 22 columns):\n",
      " #   Column              Non-Null Count   Dtype         \n",
      "---  ------              --------------   -----         \n",
      " 0   pk_sale             240773 non-null  object        \n",
      " 1   cid                 240773 non-null  object        \n",
      " 2   month_sale          240773 non-null  datetime64[ns]\n",
      " 3   product_ID          240773 non-null  object        \n",
      " 4   net_margin          240773 non-null  float64       \n",
      " 5   pk_cid              240771 non-null  object        \n",
      " 6   pk_partition        240771 non-null  datetime64[ns]\n",
      " 7   short_term_deposit  240771 non-null  float64       \n",
      " 8   loans               240771 non-null  float64       \n",
      " 9   mortgage            240771 non-null  float64       \n",
      " 10  funds               240771 non-null  float64       \n",
      " 11  securities          240771 non-null  float64       \n",
      " 12  long_term_deposit   240771 non-null  float64       \n",
      " 13  em_account_pp       240771 non-null  float64       \n",
      " 14  credit_card         240771 non-null  float64       \n",
      " 15  payroll             240771 non-null  float64       \n",
      " 16  pension_plan        240771 non-null  float64       \n",
      " 17  payroll_account     240771 non-null  float64       \n",
      " 18  emc_account         240771 non-null  float64       \n",
      " 19  debit_card          240771 non-null  float64       \n",
      " 20  em_account_p        240771 non-null  float64       \n",
      " 21  em_acount           240771 non-null  float64       \n",
      "dtypes: datetime64[ns](2), float64(16), object(4)\n",
      "memory usage: 40.4+ MB\n"
     ]
    }
   ],
   "source": [
    "df.info()"
   ]
  },
  {
   "cell_type": "code",
   "execution_count": 81,
   "metadata": {},
   "outputs": [
    {
     "data": {
      "text/html": [
       "<div>\n",
       "<style scoped>\n",
       "    .dataframe tbody tr th:only-of-type {\n",
       "        vertical-align: middle;\n",
       "    }\n",
       "\n",
       "    .dataframe tbody tr th {\n",
       "        vertical-align: top;\n",
       "    }\n",
       "\n",
       "    .dataframe thead th {\n",
       "        text-align: right;\n",
       "    }\n",
       "</style>\n",
       "<table border=\"1\" class=\"dataframe\">\n",
       "  <thead>\n",
       "    <tr style=\"text-align: right;\">\n",
       "      <th></th>\n",
       "      <th>pk_sale</th>\n",
       "      <th>cid</th>\n",
       "      <th>month_sale</th>\n",
       "      <th>product_ID</th>\n",
       "      <th>net_margin</th>\n",
       "      <th>pk_cid</th>\n",
       "      <th>pk_partition</th>\n",
       "      <th>short_term_deposit</th>\n",
       "      <th>loans</th>\n",
       "      <th>mortgage</th>\n",
       "      <th>...</th>\n",
       "      <th>long_term_deposit</th>\n",
       "      <th>em_account_pp</th>\n",
       "      <th>credit_card</th>\n",
       "      <th>payroll</th>\n",
       "      <th>pension_plan</th>\n",
       "      <th>payroll_account</th>\n",
       "      <th>emc_account</th>\n",
       "      <th>debit_card</th>\n",
       "      <th>em_account_p</th>\n",
       "      <th>em_acount</th>\n",
       "    </tr>\n",
       "  </thead>\n",
       "  <tbody>\n",
       "    <tr>\n",
       "      <th>0</th>\n",
       "      <td>6666</td>\n",
       "      <td>33620</td>\n",
       "      <td>2018-05-01</td>\n",
       "      <td>2335</td>\n",
       "      <td>952.9</td>\n",
       "      <td>33620</td>\n",
       "      <td>2018-05-01</td>\n",
       "      <td>1.0</td>\n",
       "      <td>0.0</td>\n",
       "      <td>0.0</td>\n",
       "      <td>...</td>\n",
       "      <td>0.0</td>\n",
       "      <td>0.0</td>\n",
       "      <td>0.0</td>\n",
       "      <td>0.0</td>\n",
       "      <td>0.0</td>\n",
       "      <td>0.0</td>\n",
       "      <td>0.0</td>\n",
       "      <td>0.0</td>\n",
       "      <td>0.0</td>\n",
       "      <td>1.0</td>\n",
       "    </tr>\n",
       "    <tr>\n",
       "      <th>1</th>\n",
       "      <td>6667</td>\n",
       "      <td>35063</td>\n",
       "      <td>2018-06-01</td>\n",
       "      <td>2335</td>\n",
       "      <td>1625.2</td>\n",
       "      <td>35063</td>\n",
       "      <td>2018-06-01</td>\n",
       "      <td>1.0</td>\n",
       "      <td>0.0</td>\n",
       "      <td>0.0</td>\n",
       "      <td>...</td>\n",
       "      <td>0.0</td>\n",
       "      <td>0.0</td>\n",
       "      <td>0.0</td>\n",
       "      <td>0.0</td>\n",
       "      <td>0.0</td>\n",
       "      <td>0.0</td>\n",
       "      <td>0.0</td>\n",
       "      <td>0.0</td>\n",
       "      <td>0.0</td>\n",
       "      <td>1.0</td>\n",
       "    </tr>\n",
       "    <tr>\n",
       "      <th>2</th>\n",
       "      <td>6668</td>\n",
       "      <td>37299</td>\n",
       "      <td>2018-02-01</td>\n",
       "      <td>2335</td>\n",
       "      <td>1279.7</td>\n",
       "      <td>37299</td>\n",
       "      <td>2018-02-01</td>\n",
       "      <td>1.0</td>\n",
       "      <td>0.0</td>\n",
       "      <td>0.0</td>\n",
       "      <td>...</td>\n",
       "      <td>0.0</td>\n",
       "      <td>0.0</td>\n",
       "      <td>0.0</td>\n",
       "      <td>0.0</td>\n",
       "      <td>0.0</td>\n",
       "      <td>0.0</td>\n",
       "      <td>0.0</td>\n",
       "      <td>0.0</td>\n",
       "      <td>0.0</td>\n",
       "      <td>1.0</td>\n",
       "    </tr>\n",
       "    <tr>\n",
       "      <th>3</th>\n",
       "      <td>6669</td>\n",
       "      <td>39997</td>\n",
       "      <td>2018-02-01</td>\n",
       "      <td>2335</td>\n",
       "      <td>1511.9</td>\n",
       "      <td>39997</td>\n",
       "      <td>2018-02-01</td>\n",
       "      <td>1.0</td>\n",
       "      <td>0.0</td>\n",
       "      <td>0.0</td>\n",
       "      <td>...</td>\n",
       "      <td>0.0</td>\n",
       "      <td>0.0</td>\n",
       "      <td>0.0</td>\n",
       "      <td>0.0</td>\n",
       "      <td>0.0</td>\n",
       "      <td>0.0</td>\n",
       "      <td>0.0</td>\n",
       "      <td>0.0</td>\n",
       "      <td>0.0</td>\n",
       "      <td>0.0</td>\n",
       "    </tr>\n",
       "    <tr>\n",
       "      <th>4</th>\n",
       "      <td>6670</td>\n",
       "      <td>44012</td>\n",
       "      <td>2018-02-01</td>\n",
       "      <td>2335</td>\n",
       "      <td>1680.3</td>\n",
       "      <td>44012</td>\n",
       "      <td>2018-02-01</td>\n",
       "      <td>1.0</td>\n",
       "      <td>0.0</td>\n",
       "      <td>0.0</td>\n",
       "      <td>...</td>\n",
       "      <td>0.0</td>\n",
       "      <td>0.0</td>\n",
       "      <td>0.0</td>\n",
       "      <td>0.0</td>\n",
       "      <td>0.0</td>\n",
       "      <td>0.0</td>\n",
       "      <td>0.0</td>\n",
       "      <td>0.0</td>\n",
       "      <td>0.0</td>\n",
       "      <td>1.0</td>\n",
       "    </tr>\n",
       "  </tbody>\n",
       "</table>\n",
       "<p>5 rows × 22 columns</p>\n",
       "</div>"
      ],
      "text/plain": [
       "  pk_sale    cid month_sale product_ID  net_margin pk_cid pk_partition  \\\n",
       "0    6666  33620 2018-05-01       2335       952.9  33620   2018-05-01   \n",
       "1    6667  35063 2018-06-01       2335      1625.2  35063   2018-06-01   \n",
       "2    6668  37299 2018-02-01       2335      1279.7  37299   2018-02-01   \n",
       "3    6669  39997 2018-02-01       2335      1511.9  39997   2018-02-01   \n",
       "4    6670  44012 2018-02-01       2335      1680.3  44012   2018-02-01   \n",
       "\n",
       "   short_term_deposit  loans  mortgage  ...  long_term_deposit  em_account_pp  \\\n",
       "0                 1.0    0.0       0.0  ...                0.0            0.0   \n",
       "1                 1.0    0.0       0.0  ...                0.0            0.0   \n",
       "2                 1.0    0.0       0.0  ...                0.0            0.0   \n",
       "3                 1.0    0.0       0.0  ...                0.0            0.0   \n",
       "4                 1.0    0.0       0.0  ...                0.0            0.0   \n",
       "\n",
       "   credit_card  payroll  pension_plan  payroll_account  emc_account  \\\n",
       "0          0.0      0.0           0.0              0.0          0.0   \n",
       "1          0.0      0.0           0.0              0.0          0.0   \n",
       "2          0.0      0.0           0.0              0.0          0.0   \n",
       "3          0.0      0.0           0.0              0.0          0.0   \n",
       "4          0.0      0.0           0.0              0.0          0.0   \n",
       "\n",
       "   debit_card  em_account_p  em_acount  \n",
       "0         0.0           0.0        1.0  \n",
       "1         0.0           0.0        1.0  \n",
       "2         0.0           0.0        1.0  \n",
       "3         0.0           0.0        0.0  \n",
       "4         0.0           0.0        1.0  \n",
       "\n",
       "[5 rows x 22 columns]"
      ]
     },
     "execution_count": 81,
     "metadata": {},
     "output_type": "execute_result"
    }
   ],
   "source": [
    "df.head()"
   ]
  },
  {
   "cell_type": "code",
   "execution_count": 82,
   "metadata": {},
   "outputs": [
    {
     "data": {
      "text/plain": [
       "pk_sale               0\n",
       "cid                   0\n",
       "month_sale            0\n",
       "product_ID            0\n",
       "net_margin            0\n",
       "pk_cid                2\n",
       "pk_partition          2\n",
       "short_term_deposit    2\n",
       "loans                 2\n",
       "mortgage              2\n",
       "funds                 2\n",
       "securities            2\n",
       "long_term_deposit     2\n",
       "em_account_pp         2\n",
       "credit_card           2\n",
       "payroll               2\n",
       "pension_plan          2\n",
       "payroll_account       2\n",
       "emc_account           2\n",
       "debit_card            2\n",
       "em_account_p          2\n",
       "em_acount             2\n",
       "dtype: int64"
      ]
     },
     "execution_count": 82,
     "metadata": {},
     "output_type": "execute_result"
    }
   ],
   "source": [
    "df.isnull().sum()"
   ]
  },
  {
   "cell_type": "markdown",
   "metadata": {},
   "source": [
    "## Borrado de columnas"
   ]
  },
  {
   "cell_type": "code",
   "execution_count": 83,
   "metadata": {},
   "outputs": [
    {
     "name": "stdout",
     "output_type": "stream",
     "text": [
      "  pk_sale month_sale product_ID  net_margin pk_cid  short_term_deposit  loans  \\\n",
      "0    6666 2018-05-01       2335       952.9  33620                 1.0    0.0   \n",
      "1    6667 2018-06-01       2335      1625.2  35063                 1.0    0.0   \n",
      "2    6668 2018-02-01       2335      1279.7  37299                 1.0    0.0   \n",
      "3    6669 2018-02-01       2335      1511.9  39997                 1.0    0.0   \n",
      "4    6670 2018-02-01       2335      1680.3  44012                 1.0    0.0   \n",
      "\n",
      "   mortgage  funds  securities  long_term_deposit  credit_card  payroll  \\\n",
      "0       0.0    0.0         0.0                0.0          0.0      0.0   \n",
      "1       0.0    0.0         0.0                0.0          0.0      0.0   \n",
      "2       0.0    0.0         0.0                0.0          0.0      0.0   \n",
      "3       0.0    0.0         0.0                0.0          0.0      0.0   \n",
      "4       0.0    0.0         0.0                0.0          0.0      0.0   \n",
      "\n",
      "   pension_plan  payroll_account  emc_account  debit_card  em_acount  \n",
      "0           0.0              0.0          0.0         0.0        1.0  \n",
      "1           0.0              0.0          0.0         0.0        1.0  \n",
      "2           0.0              0.0          0.0         0.0        1.0  \n",
      "3           0.0              0.0          0.0         0.0        0.0  \n",
      "4           0.0              0.0          0.0         0.0        1.0  \n"
     ]
    }
   ],
   "source": [
    "# Lista de columnas a eliminar:\n",
    "# cid, pk_partition y pk_product_ID son redundantes. \n",
    "# em_account_pp solo tiene valores 0\n",
    "# em_account_p solo tiene 5 valores 1, todos los demás valores son 0 por tanto las eliminamos\n",
    "columns_to_drop = ['cid', 'pk_partition', 'em_account_pp', 'em_account_p' ]\n",
    "\n",
    "# Eliminar las columnas\n",
    "df = df.drop(columns=columns_to_drop)\n",
    "\n",
    "# Verificar el resultado\n",
    "print(df.head())\n"
   ]
  },
  {
   "cell_type": "code",
   "execution_count": 84,
   "metadata": {},
   "outputs": [
    {
     "name": "stdout",
     "output_type": "stream",
     "text": [
      "<class 'pandas.core.frame.DataFrame'>\n",
      "RangeIndex: 240773 entries, 0 to 240772\n",
      "Data columns (total 18 columns):\n",
      " #   Column              Non-Null Count   Dtype         \n",
      "---  ------              --------------   -----         \n",
      " 0   pk_sale             240773 non-null  object        \n",
      " 1   month_sale          240773 non-null  datetime64[ns]\n",
      " 2   product_ID          240773 non-null  object        \n",
      " 3   net_margin          240773 non-null  float64       \n",
      " 4   pk_cid              240771 non-null  object        \n",
      " 5   short_term_deposit  240771 non-null  float64       \n",
      " 6   loans               240771 non-null  float64       \n",
      " 7   mortgage            240771 non-null  float64       \n",
      " 8   funds               240771 non-null  float64       \n",
      " 9   securities          240771 non-null  float64       \n",
      " 10  long_term_deposit   240771 non-null  float64       \n",
      " 11  credit_card         240771 non-null  float64       \n",
      " 12  payroll             240771 non-null  float64       \n",
      " 13  pension_plan        240771 non-null  float64       \n",
      " 14  payroll_account     240771 non-null  float64       \n",
      " 15  emc_account         240771 non-null  float64       \n",
      " 16  debit_card          240771 non-null  float64       \n",
      " 17  em_acount           240771 non-null  float64       \n",
      "dtypes: datetime64[ns](1), float64(14), object(3)\n",
      "memory usage: 33.1+ MB\n"
     ]
    }
   ],
   "source": [
    "df.info()"
   ]
  },
  {
   "cell_type": "markdown",
   "metadata": {},
   "source": [
    "## EDA"
   ]
  },
  {
   "cell_type": "code",
   "execution_count": 85,
   "metadata": {},
   "outputs": [
    {
     "data": {
      "text/html": [
       "<div>\n",
       "<style scoped>\n",
       "    .dataframe tbody tr th:only-of-type {\n",
       "        vertical-align: middle;\n",
       "    }\n",
       "\n",
       "    .dataframe tbody tr th {\n",
       "        vertical-align: top;\n",
       "    }\n",
       "\n",
       "    .dataframe thead th {\n",
       "        text-align: right;\n",
       "    }\n",
       "</style>\n",
       "<table border=\"1\" class=\"dataframe\">\n",
       "  <thead>\n",
       "    <tr style=\"text-align: right;\">\n",
       "      <th></th>\n",
       "      <th>month_sale</th>\n",
       "      <th>net_margin</th>\n",
       "      <th>short_term_deposit</th>\n",
       "      <th>loans</th>\n",
       "      <th>mortgage</th>\n",
       "      <th>funds</th>\n",
       "      <th>securities</th>\n",
       "      <th>long_term_deposit</th>\n",
       "      <th>credit_card</th>\n",
       "      <th>payroll</th>\n",
       "      <th>pension_plan</th>\n",
       "      <th>payroll_account</th>\n",
       "      <th>emc_account</th>\n",
       "      <th>debit_card</th>\n",
       "      <th>em_acount</th>\n",
       "    </tr>\n",
       "  </thead>\n",
       "  <tbody>\n",
       "    <tr>\n",
       "      <th>count</th>\n",
       "      <td>240773</td>\n",
       "      <td>240773.000000</td>\n",
       "      <td>240771.000000</td>\n",
       "      <td>240771.000000</td>\n",
       "      <td>240771.000000</td>\n",
       "      <td>240771.000000</td>\n",
       "      <td>240771.000000</td>\n",
       "      <td>240771.000000</td>\n",
       "      <td>240771.000000</td>\n",
       "      <td>240771.000000</td>\n",
       "      <td>240771.00000</td>\n",
       "      <td>240771.000000</td>\n",
       "      <td>240771.000000</td>\n",
       "      <td>240771.000000</td>\n",
       "      <td>240771.000000</td>\n",
       "    </tr>\n",
       "    <tr>\n",
       "      <th>mean</th>\n",
       "      <td>2018-09-09 21:39:56.944840448</td>\n",
       "      <td>606.878164</td>\n",
       "      <td>0.026552</td>\n",
       "      <td>0.000166</td>\n",
       "      <td>0.000154</td>\n",
       "      <td>0.007879</td>\n",
       "      <td>0.009565</td>\n",
       "      <td>0.036612</td>\n",
       "      <td>0.036778</td>\n",
       "      <td>0.253311</td>\n",
       "      <td>0.26109</td>\n",
       "      <td>0.237961</td>\n",
       "      <td>0.107953</td>\n",
       "      <td>0.294649</td>\n",
       "      <td>0.727467</td>\n",
       "    </tr>\n",
       "    <tr>\n",
       "      <th>min</th>\n",
       "      <td>2018-02-01 00:00:00</td>\n",
       "      <td>25.000000</td>\n",
       "      <td>0.000000</td>\n",
       "      <td>0.000000</td>\n",
       "      <td>0.000000</td>\n",
       "      <td>0.000000</td>\n",
       "      <td>0.000000</td>\n",
       "      <td>0.000000</td>\n",
       "      <td>0.000000</td>\n",
       "      <td>0.000000</td>\n",
       "      <td>0.00000</td>\n",
       "      <td>0.000000</td>\n",
       "      <td>0.000000</td>\n",
       "      <td>0.000000</td>\n",
       "      <td>0.000000</td>\n",
       "    </tr>\n",
       "    <tr>\n",
       "      <th>25%</th>\n",
       "      <td>2018-07-01 00:00:00</td>\n",
       "      <td>61.400000</td>\n",
       "      <td>0.000000</td>\n",
       "      <td>0.000000</td>\n",
       "      <td>0.000000</td>\n",
       "      <td>0.000000</td>\n",
       "      <td>0.000000</td>\n",
       "      <td>0.000000</td>\n",
       "      <td>0.000000</td>\n",
       "      <td>0.000000</td>\n",
       "      <td>0.00000</td>\n",
       "      <td>0.000000</td>\n",
       "      <td>0.000000</td>\n",
       "      <td>0.000000</td>\n",
       "      <td>0.000000</td>\n",
       "    </tr>\n",
       "    <tr>\n",
       "      <th>50%</th>\n",
       "      <td>2018-09-01 00:00:00</td>\n",
       "      <td>69.100000</td>\n",
       "      <td>0.000000</td>\n",
       "      <td>0.000000</td>\n",
       "      <td>0.000000</td>\n",
       "      <td>0.000000</td>\n",
       "      <td>0.000000</td>\n",
       "      <td>0.000000</td>\n",
       "      <td>0.000000</td>\n",
       "      <td>0.000000</td>\n",
       "      <td>0.00000</td>\n",
       "      <td>0.000000</td>\n",
       "      <td>0.000000</td>\n",
       "      <td>0.000000</td>\n",
       "      <td>1.000000</td>\n",
       "    </tr>\n",
       "    <tr>\n",
       "      <th>75%</th>\n",
       "      <td>2018-12-01 00:00:00</td>\n",
       "      <td>79.200000</td>\n",
       "      <td>0.000000</td>\n",
       "      <td>0.000000</td>\n",
       "      <td>0.000000</td>\n",
       "      <td>0.000000</td>\n",
       "      <td>0.000000</td>\n",
       "      <td>0.000000</td>\n",
       "      <td>0.000000</td>\n",
       "      <td>1.000000</td>\n",
       "      <td>1.00000</td>\n",
       "      <td>0.000000</td>\n",
       "      <td>0.000000</td>\n",
       "      <td>1.000000</td>\n",
       "      <td>1.000000</td>\n",
       "    </tr>\n",
       "    <tr>\n",
       "      <th>max</th>\n",
       "      <td>2019-05-01 00:00:00</td>\n",
       "      <td>18466.400000</td>\n",
       "      <td>1.000000</td>\n",
       "      <td>1.000000</td>\n",
       "      <td>1.000000</td>\n",
       "      <td>1.000000</td>\n",
       "      <td>1.000000</td>\n",
       "      <td>1.000000</td>\n",
       "      <td>1.000000</td>\n",
       "      <td>1.000000</td>\n",
       "      <td>1.00000</td>\n",
       "      <td>1.000000</td>\n",
       "      <td>1.000000</td>\n",
       "      <td>1.000000</td>\n",
       "      <td>1.000000</td>\n",
       "    </tr>\n",
       "    <tr>\n",
       "      <th>std</th>\n",
       "      <td>NaN</td>\n",
       "      <td>1735.806089</td>\n",
       "      <td>0.160771</td>\n",
       "      <td>0.012888</td>\n",
       "      <td>0.012396</td>\n",
       "      <td>0.088413</td>\n",
       "      <td>0.097333</td>\n",
       "      <td>0.187807</td>\n",
       "      <td>0.188216</td>\n",
       "      <td>0.434909</td>\n",
       "      <td>0.43923</td>\n",
       "      <td>0.425836</td>\n",
       "      <td>0.310322</td>\n",
       "      <td>0.455886</td>\n",
       "      <td>0.445263</td>\n",
       "    </tr>\n",
       "  </tbody>\n",
       "</table>\n",
       "</div>"
      ],
      "text/plain": [
       "                          month_sale     net_margin  short_term_deposit  \\\n",
       "count                         240773  240773.000000       240771.000000   \n",
       "mean   2018-09-09 21:39:56.944840448     606.878164            0.026552   \n",
       "min              2018-02-01 00:00:00      25.000000            0.000000   \n",
       "25%              2018-07-01 00:00:00      61.400000            0.000000   \n",
       "50%              2018-09-01 00:00:00      69.100000            0.000000   \n",
       "75%              2018-12-01 00:00:00      79.200000            0.000000   \n",
       "max              2019-05-01 00:00:00   18466.400000            1.000000   \n",
       "std                              NaN    1735.806089            0.160771   \n",
       "\n",
       "               loans       mortgage          funds     securities  \\\n",
       "count  240771.000000  240771.000000  240771.000000  240771.000000   \n",
       "mean        0.000166       0.000154       0.007879       0.009565   \n",
       "min         0.000000       0.000000       0.000000       0.000000   \n",
       "25%         0.000000       0.000000       0.000000       0.000000   \n",
       "50%         0.000000       0.000000       0.000000       0.000000   \n",
       "75%         0.000000       0.000000       0.000000       0.000000   \n",
       "max         1.000000       1.000000       1.000000       1.000000   \n",
       "std         0.012888       0.012396       0.088413       0.097333   \n",
       "\n",
       "       long_term_deposit    credit_card        payroll  pension_plan  \\\n",
       "count      240771.000000  240771.000000  240771.000000  240771.00000   \n",
       "mean            0.036612       0.036778       0.253311       0.26109   \n",
       "min             0.000000       0.000000       0.000000       0.00000   \n",
       "25%             0.000000       0.000000       0.000000       0.00000   \n",
       "50%             0.000000       0.000000       0.000000       0.00000   \n",
       "75%             0.000000       0.000000       1.000000       1.00000   \n",
       "max             1.000000       1.000000       1.000000       1.00000   \n",
       "std             0.187807       0.188216       0.434909       0.43923   \n",
       "\n",
       "       payroll_account    emc_account     debit_card      em_acount  \n",
       "count    240771.000000  240771.000000  240771.000000  240771.000000  \n",
       "mean          0.237961       0.107953       0.294649       0.727467  \n",
       "min           0.000000       0.000000       0.000000       0.000000  \n",
       "25%           0.000000       0.000000       0.000000       0.000000  \n",
       "50%           0.000000       0.000000       0.000000       1.000000  \n",
       "75%           0.000000       0.000000       1.000000       1.000000  \n",
       "max           1.000000       1.000000       1.000000       1.000000  \n",
       "std           0.425836       0.310322       0.455886       0.445263  "
      ]
     },
     "execution_count": 85,
     "metadata": {},
     "output_type": "execute_result"
    }
   ],
   "source": [
    "df.describe()\n"
   ]
  },
  {
   "cell_type": "code",
   "execution_count": 86,
   "metadata": {},
   "outputs": [
    {
     "data": {
      "text/plain": [
       "pk_sale               0\n",
       "month_sale            0\n",
       "product_ID            0\n",
       "net_margin            0\n",
       "pk_cid                2\n",
       "short_term_deposit    2\n",
       "loans                 2\n",
       "mortgage              2\n",
       "funds                 2\n",
       "securities            2\n",
       "long_term_deposit     2\n",
       "credit_card           2\n",
       "payroll               2\n",
       "pension_plan          2\n",
       "payroll_account       2\n",
       "emc_account           2\n",
       "debit_card            2\n",
       "em_acount             2\n",
       "dtype: int64"
      ]
     },
     "execution_count": 86,
     "metadata": {},
     "output_type": "execute_result"
    }
   ],
   "source": [
    "df.isnull().sum()\n"
   ]
  },
  {
   "cell_type": "code",
   "execution_count": 87,
   "metadata": {},
   "outputs": [
    {
     "data": {
      "text/plain": [
       "(240771, 18)"
      ]
     },
     "execution_count": 87,
     "metadata": {},
     "output_type": "execute_result"
    }
   ],
   "source": [
    "# Eliminamos las filas con valores nulos\n",
    "df = df.dropna()\n",
    "\n",
    "# Verificamos el nuevo tamaño del DataFrame después de eliminar las filas con valores nulos\n",
    "df.shape\n"
   ]
  },
  {
   "cell_type": "code",
   "execution_count": 88,
   "metadata": {},
   "outputs": [
    {
     "data": {
      "text/plain": [
       "pk_sale               0\n",
       "month_sale            0\n",
       "product_ID            0\n",
       "net_margin            0\n",
       "pk_cid                0\n",
       "short_term_deposit    0\n",
       "loans                 0\n",
       "mortgage              0\n",
       "funds                 0\n",
       "securities            0\n",
       "long_term_deposit     0\n",
       "credit_card           0\n",
       "payroll               0\n",
       "pension_plan          0\n",
       "payroll_account       0\n",
       "emc_account           0\n",
       "debit_card            0\n",
       "em_acount             0\n",
       "dtype: int64"
      ]
     },
     "execution_count": 88,
     "metadata": {},
     "output_type": "execute_result"
    }
   ],
   "source": [
    "df.isnull().sum()\n"
   ]
  },
  {
   "cell_type": "code",
   "execution_count": 89,
   "metadata": {},
   "outputs": [],
   "source": [
    "# Generamos una función para separar variables numéricas, categóricas y tipo fecha\n",
    "\n",
    "def obtener_lista_variables(dataset):\n",
    "    lista_numericas = []\n",
    "    lista_categoricas = []\n",
    "    lista_fechas = []\n",
    "\n",
    "    for i in dataset:\n",
    "        if dataset[i].dtype in ['float64', 'int64']:\n",
    "            lista_numericas.append(i)\n",
    "        elif dataset[i].dtype == 'object':\n",
    "            lista_categoricas.append(i)\n",
    "        elif dataset[i].dtype == 'datetime64[ns]':\n",
    "            lista_fechas.append(i)\n",
    "\n",
    "    return lista_numericas, lista_categoricas, lista_fechas\n",
    "\n",
    "lnum_df, lcat_df, ldate_df = obtener_lista_variables(df)\n"
   ]
  },
  {
   "cell_type": "code",
   "execution_count": 90,
   "metadata": {},
   "outputs": [],
   "source": [
    "lnum_df, lcat_df, ldate_df= obtener_lista_variables(df)"
   ]
  },
  {
   "cell_type": "code",
   "execution_count": 91,
   "metadata": {},
   "outputs": [
    {
     "data": {
      "text/plain": [
       "['net_margin',\n",
       " 'short_term_deposit',\n",
       " 'loans',\n",
       " 'mortgage',\n",
       " 'funds',\n",
       " 'securities',\n",
       " 'long_term_deposit',\n",
       " 'credit_card',\n",
       " 'payroll',\n",
       " 'pension_plan',\n",
       " 'payroll_account',\n",
       " 'emc_account',\n",
       " 'debit_card',\n",
       " 'em_acount']"
      ]
     },
     "execution_count": 91,
     "metadata": {},
     "output_type": "execute_result"
    }
   ],
   "source": [
    "lnum_df"
   ]
  },
  {
   "cell_type": "code",
   "execution_count": 92,
   "metadata": {},
   "outputs": [
    {
     "data": {
      "text/plain": [
       "['pk_sale', 'product_ID', 'pk_cid']"
      ]
     },
     "execution_count": 92,
     "metadata": {},
     "output_type": "execute_result"
    }
   ],
   "source": [
    "lcat_df"
   ]
  },
  {
   "cell_type": "code",
   "execution_count": 93,
   "metadata": {},
   "outputs": [
    {
     "data": {
      "text/plain": [
       "['month_sale']"
      ]
     },
     "execution_count": 93,
     "metadata": {},
     "output_type": "execute_result"
    }
   ],
   "source": [
    "ldate_df"
   ]
  },
  {
   "cell_type": "code",
   "execution_count": 94,
   "metadata": {},
   "outputs": [
    {
     "data": {
      "image/png": "[encoded data removed]",
      "text/plain": [
       "<Figure size 1000x600 with 1 Axes>"
      ]
     },
     "metadata": {},
     "output_type": "display_data"
    },
    {
     "data": {
      "image/png": "[encoded data removed]",
      "text/plain": [
       "<Figure size 1000x600 with 1 Axes>"
      ]
     },
     "metadata": {},
     "output_type": "display_data"
    },
    {
     "data": {
      "image/png": "[encoded data removed]",
      "text/plain": [
       "<Figure size 1000x600 with 1 Axes>"
      ]
     },
     "metadata": {},
     "output_type": "display_data"
    },
    {
     "data": {
      "image/png": "[encoded data removed]",
      "text/plain": [
       "<Figure size 1000x600 with 1 Axes>"
      ]
     },
     "metadata": {},
     "output_type": "display_data"
    },
    {
     "data": {
      "image/png": "[encoded data removed]",
      "text/plain": [
       "<Figure size 1000x600 with 1 Axes>"
      ]
     },
     "metadata": {},
     "output_type": "display_data"
    },
    {
     "data": {
      "image/png": "[encoded data removed]",
      "text/plain": [
       "<Figure size 1000x600 with 1 Axes>"
      ]
     },
     "metadata": {},
     "output_type": "display_data"
    },
    {
     "data": {
      "image/png": "[encoded data removed]",
      "text/plain": [
       "<Figure size 1000x600 with 1 Axes>"
      ]
     },
     "metadata": {},
     "output_type": "display_data"
    },
    {
     "data": {
      "image/png": "[encoded data removed]",
      "text/plain": [
       "<Figure size 1000x600 with 1 Axes>"
      ]
     },
     "metadata": {},
     "output_type": "display_data"
    },
    {
     "data": {
      "image/png": "[encoded data removed]",
      "text/plain": [
       "<Figure size 1000x600 with 1 Axes>"
      ]
     },
     "metadata": {},
     "output_type": "display_data"
    },
    {
     "data": {
      "image/png": "[encoded data removed]",
      "text/plain": [
       "<Figure size 1000x600 with 1 Axes>"
      ]
     },
     "metadata": {},
     "output_type": "display_data"
    },
    {
     "data": {
      "image/png": "[encoded data removed]",
      "text/plain": [
       "<Figure size 1000x600 with 1 Axes>"
      ]
     },
     "metadata": {},
     "output_type": "display_data"
    },
    {
     "data": {
      "image/png": "[encoded data removed]",
      "text/plain": [
       "<Figure size 1000x600 with 1 Axes>"
      ]
     },
     "metadata": {},
     "output_type": "display_data"
    },
    {
     "data": {
      "image/png": "[encoded data removed]",
      "text/plain": [
       "<Figure size 1000x600 with 1 Axes>"
      ]
     },
     "metadata": {},
     "output_type": "display_data"
    },
    {
     "data": {
      "image/png": "[encoded data removed]",
      "text/plain": [
       "<Figure size 1000x600 with 1 Axes>"
      ]
     },
     "metadata": {},
     "output_type": "display_data"
    }
   ],
   "source": [
    "# Realizamos histogramas de variables numéricas\n",
    "\n",
    "for col in lnum_df:\n",
    "    plt.figure(figsize=(10,6))\n",
    "    sns.histplot(df[col], kde=True, bins=30)\n",
    "    plt.title(f'Distribución de {col}')\n",
    "    plt.show()\n"
   ]
  },
  {
   "cell_type": "code",
   "execution_count": 95,
   "metadata": {},
   "outputs": [
    {
     "data": {
      "image/png": "[encoded data removed]",
      "text/plain": [
       "<Figure size 1200x1000 with 2 Axes>"
      ]
     },
     "metadata": {},
     "output_type": "display_data"
    }
   ],
   "source": [
    "# Generamos un mapa de calor para ver correlaciones\n",
    "\n",
    "correlation_matrix = df[lnum_df].corr()\n",
    "plt.figure(figsize=(12,10))\n",
    "sns.heatmap(correlation_matrix, annot=True, cmap=\"coolwarm\", linewidths=0.5)\n",
    "plt.title('Matriz de Correlación')\n",
    "plt.show()\n",
    "\n",
    "# Vemos alta correlación entre planes de pensiones y payroll"
   ]
  },
  {
   "cell_type": "code",
   "execution_count": 96,
   "metadata": {},
   "outputs": [],
   "source": [
    "# Como podemos ver hay alta correlación entre las variables pension_plan, payroll y payroll_account"
   ]
  },
  {
   "cell_type": "code",
   "execution_count": 97,
   "metadata": {},
   "outputs": [],
   "source": [
    "# Calculamos los productos más vendidos\n",
    "\n",
    "productos = ['short_term_deposit', 'loans', 'mortgage', 'funds', 'securities', 'long_term_deposit', \n",
    "            'credit_card', 'payroll', 'pension_plan', 'payroll_account', 'emc_account', \n",
    "            'debit_card', 'em_acount']\n",
    "\n",
    "ventas_productos = df[productos].sum().sort_values(ascending=False)"
   ]
  },
  {
   "cell_type": "code",
   "execution_count": 98,
   "metadata": {},
   "outputs": [
    {
     "data": {
      "text/plain": [
       "em_acount             175153.0\n",
       "debit_card             70943.0\n",
       "pension_plan           62863.0\n",
       "payroll                60990.0\n",
       "payroll_account        57294.0\n",
       "emc_account            25992.0\n",
       "credit_card             8855.0\n",
       "long_term_deposit       8815.0\n",
       "short_term_deposit      6393.0\n",
       "securities              2303.0\n",
       "funds                   1897.0\n",
       "loans                     40.0\n",
       "mortgage                  37.0\n",
       "dtype: float64"
      ]
     },
     "execution_count": 98,
     "metadata": {},
     "output_type": "execute_result"
    }
   ],
   "source": [
    "ventas_productos"
   ]
  },
  {
   "cell_type": "code",
   "execution_count": 99,
   "metadata": {},
   "outputs": [],
   "source": [
    "# Como podemos ver los productos más vendidos son: em_account, debit_card, pension_plan y payroll."
   ]
  }
 ],
 "metadata": {
  "kernelspec": {
   "display_name": "Python 3",
   "language": "python",
   "name": "python3"
  },
  "language_info": {
   "codemirror_mode": {
    "name": "ipython",
    "version": 3
   },
   "file_extension": ".py",
   "mimetype": "text/x-python",
   "name": "python",
   "nbconvert_exporter": "python",
   "pygments_lexer": "ipython3",
   "version": "3.9.6"
  },
  "orig_nbformat": 4
 },
 "nbformat": 4,
 "nbformat_minor": 2
}
